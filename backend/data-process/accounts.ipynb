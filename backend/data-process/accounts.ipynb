{
 "cells": [
  {
   "cell_type": "code",
   "execution_count": 1,
   "metadata": {},
   "outputs": [],
   "source": [
    "import pandas as pd\n",
    "import calendar\n",
    "import datetime\n",
    "from dateutil.relativedelta import relativedelta\n",
    "import numpy as np"
   ]
  },
  {
   "cell_type": "code",
   "execution_count": 2,
   "metadata": {},
   "outputs": [],
   "source": [
    "categories = [{'id': 1, 'color': '#FF5733', 'is_default': True, 'name': 'Compras', 'description': None, 'icon': 'shoppingBag', 'owner_id': 1, 'subcategories': [{'name': 'Compras', 'description': None, 'is_default': True, 'category_id': 1, 'id': 1, 'icon': 'shoppingBag', 'owner_id': 1}, {'name': 'Bebés, niños', 'description': None, 'is_default': True, 'category_id': 1, 'id': 2, 'icon': 'baby', 'owner_id': 1}, {'name': 'Casa y jardín', 'description': None, 'is_default': True, 'category_id': 1, 'id': 3, 'icon': 'lampDesk', 'owner_id': 1}, {'name': 'Electrónica, accesorios', 'description': None, 'is_default': True, 'category_id': 1, 'id': 4, 'icon': 'laptop2', 'owner_id': 1}, {'name': 'Joyas, accesorios', 'description': None, 'is_default': True, 'category_id': 1, 'id': 5, 'icon': 'gem', 'owner_id': 1}, {'name': 'Mascotas, animales', 'description': None, 'is_default': True, 'category_id': 1, 'id': 6, 'icon': 'cat', 'owner_id': 1}, {'name': 'Papelería, herramientas', 'description': None, 'is_default': True, 'category_id': 1, 'id': 7, 'icon': 'scissors', 'owner_id': 1}, {'name': 'Regalos', 'description': None, 'is_default': True, 'category_id': 1, 'id': 8, 'icon': 'gift', 'owner_id': 1}, {'name': 'Ropa y calzado', 'description': None, 'is_default': True, 'category_id': 1, 'id': 9, 'icon': 'shirt', 'owner_id': 1}, {'name': 'Tiempo libre', 'description': None, 'is_default': True, 'category_id': 1, 'id': 10, 'icon': 'mountain', 'owner_id': 1}, {'name': 'Libros', 'description': None, 'is_default': True, 'category_id': 1, 'id': 11, 'icon': 'book', 'owner_id': 1}]}, {'id': 2, 'color': '#6DDA6B', 'is_default': True, 'name': 'Alimentos y bebidas', 'description': None, 'icon': 'apple', 'owner_id': 1, 'subcategories': [{'name': 'Alimentos y bebidas', 'description': None, 'is_default': True, 'category_id': 2, 'id': 12, 'icon': 'apple', 'owner_id': 1}, {'name': 'Comestibles, despensa', 'description': None, 'is_default': True, 'category_id': 2, 'id': 13, 'icon': 'beef', 'owner_id': 1}, {'name': 'Restaurante, comida rápida', 'description': None, 'is_default': True, 'category_id': 2, 'id': 14, 'icon': 'pizza', 'owner_id': 1}, {'name': 'Café', 'description': None, 'is_default': True, 'category_id': 2, 'id': 15, 'icon': 'coffee', 'owner_id': 1}, {'name': 'Alcohol', 'description': None, 'is_default': True, 'category_id': 2, 'id': 16, 'icon': 'beer', 'owner_id': 1}, {'name': 'Vino', 'description': None, 'is_default': True, 'category_id': 2, 'id': 17, 'icon': 'wine', 'owner_id': 1}]}, {'id': 3, 'color': '#4F4F4F', 'is_default': True, 'name': 'Seguros', 'description': None, 'icon': 'receipt', 'owner_id': 1, 'subcategories': [{'name': 'Seguros', 'description': None, 'is_default': True, 'category_id': 3, 'id': 18, 'icon': 'receipt', 'owner_id': 1}, {'name': 'Hogar', 'description': None, 'is_default': True, 'category_id': 3, 'id': 19, 'icon': 'home', 'owner_id': 1}, {'name': 'Médico', 'description': None, 'is_default': True, 'category_id': 3, 'id': 20, 'icon': 'stethoscope', 'owner_id': 1}, {'name': 'Viaje', 'description': None, 'is_default': True, 'category_id': 3, 'id': 21, 'icon': 'plane', 'owner_id': 1}, {'name': 'Vida', 'description': None, 'is_default': True, 'category_id': 3, 'id': 22, 'icon': 'heart', 'owner_id': 1}, {'name': 'Auto', 'description': None, 'is_default': True, 'category_id': 3, 'id': 23, 'icon': 'car', 'owner_id': 1}, {'name': 'Motocicleta', 'description': None, 'is_default': True, 'category_id': 3, 'id': 24, 'icon': 'bike', 'owner_id': 1}, {'name': 'Mascota', 'description': None, 'is_default': True, 'category_id': 3, 'id': 25, 'icon': 'dog', 'owner_id': 1}]}, {'id': 4, 'color': '#FFC300', 'is_default': True, 'name': 'Vivienda', 'description': None, 'icon': 'home', 'owner_id': 1, 'subcategories': [{'name': 'Vivienda', 'description': None, 'is_default': True, 'category_id': 4, 'id': 26, 'icon': 'home', 'owner_id': 1}, {'name': 'Renta', 'description': None, 'is_default': True, 'category_id': 4, 'id': 27, 'icon': 'dollarSign', 'owner_id': 1}, {'name': 'Mantenimiento, reparaciones', 'description': None, 'is_default': True, 'category_id': 4, 'id': 28, 'icon': 'hammer', 'owner_id': 1}, {'name': 'Servicio doméstico', 'description': None, 'is_default': True, 'category_id': 4, 'id': 29, 'icon': 'personStanding', 'owner_id': 1}, {'name': 'Alarmas y seguridad', 'description': None, 'is_default': True, 'category_id': 4, 'id': 30, 'icon': 'webcam', 'owner_id': 1}]}, {'id': 5, 'color': '#B041FF', 'is_default': True, 'name': 'Vehículos', 'description': None, 'icon': 'car', 'owner_id': 1, 'subcategories': [{'name': 'Vehículos', 'description': None, 'is_default': True, 'category_id': 5, 'id': 31, 'icon': 'car', 'owner_id': 1}, {'name': 'Alquiler', 'description': None, 'is_default': True, 'category_id': 5, 'id': 32, 'icon': 'dollarSign', 'owner_id': 1}, {'name': 'Combustible', 'description': None, 'is_default': True, 'category_id': 5, 'id': 33, 'icon': 'fuel', 'owner_id': 1}, {'name': 'Estacionamiento', 'description': None, 'is_default': True, 'category_id': 5, 'id': 34, 'icon': 'ParkingCircle', 'owner_id': 1}, {'name': 'Mantenimiento', 'description': None, 'is_default': True, 'category_id': 5, 'id': 35, 'icon': 'wrench', 'owner_id': 1}, {'name': 'Compra de vehículo', 'description': None, 'is_default': True, 'category_id': 5, 'id': 36, 'icon': 'store', 'owner_id': 1}]}, {'id': 6, 'color': '#FF9800', 'is_default': True, 'name': 'Vida y entretenimiento', 'description': None, 'icon': 'smile', 'owner_id': 1, 'subcategories': [{'name': 'Vida y entretenimiento', 'description': None, 'is_default': True, 'category_id': 6, 'id': 37, 'icon': 'smile', 'owner_id': 1}, {'name': 'Educación, desarrollo', 'description': None, 'is_default': True, 'category_id': 6, 'id': 38, 'icon': 'graduationCap', 'owner_id': 1}, {'name': 'Pasatiempos', 'description': None, 'is_default': True, 'category_id': 6, 'id': 39, 'icon': 'puzzle', 'owner_id': 1}, {'name': 'Vacaciones, viajes, hoteles', 'description': None, 'is_default': True, 'category_id': 6, 'id': 40, 'icon': 'palmtree', 'owner_id': 1}, {'name': 'Apuestas', 'description': None, 'is_default': True, 'category_id': 6, 'id': 41, 'icon': 'dice5', 'owner_id': 1}, {'name': 'Diversión y celebraciones', 'description': None, 'is_default': True, 'category_id': 6, 'id': 42, 'icon': 'partyPopper', 'owner_id': 1}, {'name': 'Cigarros, tabaco', 'description': None, 'is_default': True, 'category_id': 6, 'id': 43, 'icon': 'cigarette', 'owner_id': 1}, {'name': 'Bienestar, belleza', 'description': None, 'is_default': True, 'category_id': 6, 'id': 44, 'icon': 'sparkles', 'owner_id': 1}, {'name': 'Caridad, regalos', 'description': None, 'is_default': True, 'category_id': 6, 'id': 45, 'icon': 'gift', 'owner_id': 1}, {'name': 'Cultura, arte, eventos deportivos', 'description': None, 'is_default': True, 'category_id': 6, 'id': 46, 'icon': 'flagTriangleRight', 'owner_id': 1}]}, {'id': 7, 'color': '#27AE60', 'is_default': True, 'name': 'Salud y deporte', 'description': None, 'icon': 'activity', 'owner_id': 1, 'subcategories': [{'name': 'Salud y deporte', 'description': None, 'is_default': True, 'category_id': 7, 'id': 47, 'icon': 'activity', 'owner_id': 1}, {'name': 'Deporte, gym', 'description': None, 'is_default': True, 'category_id': 7, 'id': 48, 'icon': 'dumbbell', 'owner_id': 1}, {'name': 'Médico', 'description': None, 'is_default': True, 'category_id': 7, 'id': 49, 'icon': 'stethoscope', 'owner_id': 1}, {'name': 'Farmacia', 'description': None, 'is_default': True, 'category_id': 7, 'id': 50, 'icon': 'pill', 'owner_id': 1}, {'name': 'Optica', 'description': None, 'is_default': True, 'category_id': 7, 'id': 51, 'icon': 'glasses', 'owner_id': 1}, {'name': 'Denstista', 'description': None, 'is_default': True, 'category_id': 7, 'id': 52, 'icon': 'laugh', 'owner_id': 1}]}, {'id': 8, 'color': '#9B59B6', 'is_default': True, 'name': 'Suscripciones y servicios', 'description': None, 'icon': 'cable', 'owner_id': 1, 'subcategories': [{'name': 'Suscripciones y servicios', 'description': None, 'is_default': True, 'category_id': 8, 'id': 53, 'icon': 'cable', 'owner_id': 1}, {'name': 'Compras y servicios online', 'description': None, 'is_default': True, 'category_id': 8, 'id': 54, 'icon': 'shoppingCart', 'owner_id': 1}, {'name': 'Celular', 'description': None, 'is_default': True, 'category_id': 8, 'id': 55, 'icon': 'smartphone', 'owner_id': 1}, {'name': 'Entretenimiento digital', 'description': None, 'is_default': True, 'category_id': 8, 'id': 56, 'icon': 'monitorPlay', 'owner_id': 1}, {'name': 'Internet, televisión, telefonía', 'description': None, 'is_default': True, 'category_id': 8, 'id': 57, 'icon': 'wifi', 'owner_id': 1}, {'name': 'Software, aplicaciones, juegos', 'description': None, 'is_default': True, 'category_id': 8, 'id': 58, 'icon': 'gamepad2', 'owner_id': 1}, {'name': 'Electricidad', 'description': None, 'is_default': True, 'category_id': 8, 'id': 59, 'icon': 'plug2', 'owner_id': 1}, {'name': 'Agua', 'description': None, 'is_default': True, 'category_id': 8, 'id': 60, 'icon': 'droplets', 'owner_id': 1}, {'name': 'Gas', 'description': None, 'is_default': True, 'category_id': 8, 'id': 61, 'icon': 'flame', 'owner_id': 1}]}, {'id': 9, 'color': '#F44336', 'is_default': True, 'name': 'Gastos financieros', 'description': None, 'icon': 'landmark', 'owner_id': 1, 'subcategories': [{'name': 'Gastos financieros', 'description': None, 'is_default': True, 'category_id': 9, 'id': 62, 'icon': 'landmark', 'owner_id': 1}, {'name': 'Asignación familiar', 'description': None, 'is_default': True, 'category_id': 9, 'id': 63, 'icon': 'scanFace', 'owner_id': 1}, {'name': 'Cargos, honorarios', 'description': None, 'is_default': True, 'category_id': 9, 'id': 64, 'icon': 'banknote', 'owner_id': 1}, {'name': 'Asesores, abogados', 'description': None, 'is_default': True, 'category_id': 9, 'id': 65, 'icon': 'scale', 'owner_id': 1}, {'name': 'Impuestos', 'description': None, 'is_default': True, 'category_id': 9, 'id': 66, 'icon': 'badgePercent', 'owner_id': 1}, {'name': 'Multas, licencias', 'description': None, 'is_default': True, 'category_id': 9, 'id': 67, 'icon': 'banknote', 'owner_id': 1}, {'name': 'Préstamos', 'description': None, 'is_default': True, 'category_id': 9, 'id': 68, 'icon': 'wallet', 'owner_id': 1}, {'name': 'Seguro social, salud', 'description': None, 'is_default': True, 'category_id': 9, 'id': 69, 'icon': 'fileHeart', 'owner_id': 1}, {'name': 'Tramites y registro civil', 'description': None, 'is_default': True, 'category_id': 9, 'id': 70, 'icon': 'granttChartSquare', 'owner_id': 1}, {'name': 'Pensión familiar', 'description': None, 'is_default': True, 'category_id': 9, 'id': 71, 'icon': 'contact2', 'owner_id': 1}]}, {'id': 10, 'color': '#3498DB', 'is_default': True, 'name': 'Inversiones', 'description': None, 'icon': 'activity', 'owner_id': 1, 'subcategories': [{'name': 'Inversiones', 'description': None, 'is_default': True, 'category_id': 10, 'id': 72, 'icon': 'activity', 'owner_id': 1}, {'name': 'Ahorros', 'description': None, 'is_default': True, 'category_id': 10, 'id': 73, 'icon': 'piggyBank', 'owner_id': 1}, {'name': 'Bienes raíces', 'description': None, 'is_default': True, 'category_id': 10, 'id': 74, 'icon': 'home', 'owner_id': 1}, {'name': 'Coleccionables', 'description': None, 'is_default': True, 'category_id': 10, 'id': 75, 'icon': 'diamond', 'owner_id': 1}, {'name': 'Inversiones financieras', 'description': None, 'is_default': True, 'category_id': 10, 'id': 76, 'icon': 'candlestickChart', 'owner_id': 1}, {'name': 'Vehículos, propiedades', 'description': None, 'is_default': True, 'category_id': 10, 'id': 77, 'icon': 'warehouse', 'owner_id': 1}]}, {'id': 11, 'color': '#4AAE27', 'is_default': True, 'name': 'Ingresos', 'description': None, 'icon': 'barChart', 'owner_id': 1, 'subcategories': [{'name': 'Ingresos', 'description': None, 'is_default': True, 'category_id': 11, 'id': 78, 'icon': 'barChart', 'owner_id': 1}, {'name': 'Ventas', 'description': None, 'is_default': True, 'category_id': 11, 'id': 79, 'icon': 'badgeDollarSign', 'owner_id': 1}, {'name': 'Salarios', 'description': None, 'is_default': True, 'category_id': 11, 'id': 80, 'icon': 'briefcase', 'owner_id': 1}, {'name': 'Regalos', 'description': None, 'is_default': True, 'category_id': 11, 'id': 81, 'icon': 'gift', 'owner_id': 1}, {'name': 'Devolución impuestos', 'description': None, 'is_default': True, 'category_id': 11, 'id': 82, 'icon': 'building2', 'owner_id': 1}, {'name': 'Rembolsos', 'description': None, 'is_default': True, 'category_id': 11, 'id': 83, 'icon': 'undo2', 'owner_id': 1}, {'name': 'Préstamos', 'description': None, 'is_default': True, 'category_id': 11, 'id': 84, 'icon': 'arrowLeftRight', 'owner_id': 1}, {'name': 'Rentas', 'description': None, 'is_default': True, 'category_id': 11, 'id': 85, 'icon': 'home', 'owner_id': 1}, {'name': 'Lotería, juegos de azar', 'description': None, 'is_default': True, 'category_id': 11, 'id': 86, 'icon': 'dice5', 'owner_id': 1}, {'name': 'Pensiones', 'description': None, 'is_default': True, 'category_id': 11, 'id': 87, 'icon': 'userSquare2', 'owner_id': 1}, {'name': 'Subvenciones y ayudas', 'description': None, 'is_default': True, 'category_id': 11, 'id': 88, 'icon': 'helpingHand', 'owner_id': 1}, {'name': 'Rendimientos, inversiones', 'description': None, 'is_default': True, 'category_id': 11, 'id': 89, 'icon': 'barChart3', 'owner_id': 1}]}]\n",
    "\n",
    "places = [{'name': 'Sawyer-Johnson', 'is_online': True, 'id': 1, 'owner_id': 1}, {'name': 'Lambert, David and Brooks', 'is_online': False, 'id': 2, 'owner_id': 1}, {'name': 'Doyle-Crawford', 'is_online': True, 'id': 3, 'owner_id': 1}, {'name': 'Mcclure, Thompson and Kelly', 'is_online': False, 'id': 4, 'owner_id': 1}, {'name': 'Moore-Wyatt', 'is_online': False, 'id': 5, 'owner_id': 1}, {'name': 'Wright Group', 'is_online': False, 'id': 6, 'owner_id': 1}, {'name': 'Vazquez Inc', 'is_online': False, 'id': 7, 'owner_id': 1}, {'name': 'Schwartz, Buchanan and Johnson', 'is_online': False, 'id': 8, 'owner_id': 1}, {'name': 'Jenkins Inc', 'is_online': True, 'id': 9, 'owner_id': 1}, {'name': 'Johnson-Banks', 'is_online': True, 'id': 10, 'owner_id': 1}]\n",
    "\n",
    "accounts = [{'id': 5, 'current_balance': 169015.02999999997, 'total_incomes': 456005.85000000003, 'total_transfers_out': 98836.27, 'name': 'Cook LLC', 'initial_balance': 31792.6, 'total_expenses': 232140.28999999998, 'total_transfers_in': 12193.14, 'owner_id': 1}, {'id': 6, 'current_balance': 273308.62000000005, 'total_incomes': 495334.9000000001, 'total_transfers_out': 18000.059999999998, 'name': 'Moon PLC', 'initial_balance': 49502.23, 'total_expenses': 369327.4, 'total_transfers_in': 115798.95, 'owner_id': 1}, {'id': 8, 'current_balance': 60487.54999999993, 'total_incomes': 734578.27, 'total_transfers_out': 302012.86, 'name': 'Gould and Sons', 'initial_balance': 80218.77, 'total_expenses': 569799.0800000001, 'total_transfers_in': 117502.45000000001, 'owner_id': 1}, {'id': 1, 'current_balance': 192924.40999999997, 'total_incomes': 597175.28, 'total_transfers_out': 116883.87, 'name': 'Bowers, Williams and Farmer', 'initial_balance': 87.61, 'total_expenses': 559033.87, 'total_transfers_in': 271579.26, 'owner_id': 1}, {'id': 9, 'current_balance': 21877.000000000102, 'total_incomes': 576683.57, 'total_transfers_out': 137216.22999999998, 'name': 'Serrano-Garcia', 'initial_balance': 37970.48, 'total_expenses': 572226.87, 'total_transfers_in': 116666.04999999999, 'owner_id': 1}, {'id': 7, 'current_balance': 378619.1200000001, 'total_incomes': 800058.2, 'total_transfers_out': 176201.91999999998, 'name': 'Turner Inc', 'initial_balance': 86066.3, 'total_expenses': 451417.62, 'total_transfers_in': 120114.15999999999, 'owner_id': 1}, {'id': 4, 'current_balance': 177059.62, 'total_incomes': 422111.07000000007, 'total_transfers_out': 182758.97999999998, 'name': 'Byrd-Fernandez', 'initial_balance': 51185.32, 'total_expenses': 469465.0, 'total_transfers_in': 355987.2100000001, 'owner_id': 1}, {'id': 10, 'current_balance': 167521.98999999987, 'total_incomes': 510903.76999999996, 'total_transfers_out': 55750.33, 'name': 'Spencer, Tapia and Campbell', 'initial_balance': 26160.32, 'total_expenses': 500472.76000000007, 'total_transfers_in': 186680.99, 'owner_id': 1}, {'id': 2, 'current_balance': -431364.24, 'total_incomes': 301380.8, 'total_transfers_out': 92706.60999999999, 'name': 'Hunt-Moore', 'initial_balance': 90243.93, 'total_expenses': 842483.5600000002, 'total_transfers_in': 112201.2, 'owner_id': 1}, {'id': 3, 'current_balance': 1200.3400000000183, 'total_incomes': 670541.73, 'total_transfers_out': 249929.4, 'name': 'Smith PLC', 'initial_balance': 94456.4, 'total_expenses': 535441.5099999999, 'total_transfers_in': 21573.12, 'owner_id': 1}]\n",
    "\n",
    "\n",
    "expenses= [{'id': 1, 'amount': 200.23, 'description': 'Say type lot blue night attorney.', 'account_id': 2, 'subcategory_id': 14, 'date': '2024-01-13', 'owner_id': 1, 'category_id': 2, 'place_id': 5},{'id': 11, 'amount': 200.23, 'description': 'Say type lot blue night attorney.', 'account_id': 2, 'subcategory_id': 14, 'date': '2024-01-14', 'owner_id': 1, 'category_id': 2, 'place_id': 5}, {'id': 2, 'amount': 200.23, 'description': 'Say type lot blue night attorney.', 'account_id': None, 'subcategory_id': None, 'date': None, 'owner_id': 1, 'category_id': None, 'place_id': None},{'id': 3, 'amount': 200.23, 'description': 'Say type lot blue night attorney.', 'account_id': 2, 'subcategory_id': 14, 'date': '2024-01-13', 'owner_id': 1, 'category_id': 2, 'place_id': 5}]\n",
    "\n",
    "incomes = [{'amount': 100, 'date': '2024-01-01', 'owner_id': 1, 'subcategory_id': 89, 'id': 53, 'description': 'Production home painting blue pressure computer lot also.', 'account_id': 1, 'place_id': 3}, {'amount': 100, 'date': None, 'owner_id': 1, 'subcategory_id': None, 'id': 54, 'description': 'Production home painting blue pressure computer lot also.', 'account_id': None, 'place_id': None}]\n"
   ]
  },
  {
   "cell_type": "code",
   "execution_count": 3,
   "metadata": {},
   "outputs": [],
   "source": [
    "incomes_df = pd.DataFrame(incomes)\n",
    "expenses_df = pd.DataFrame(expenses)\n",
    "accounts_df = pd.DataFrame(accounts)\n",
    "places_df = pd.DataFrame(places)\n",
    "categories_df = pd.DataFrame(categories)"
   ]
  },
  {
   "cell_type": "code",
   "execution_count": 4,
   "metadata": {},
   "outputs": [],
   "source": [
    "# accounts_df.drop(columns=['owner_id'], inplace=True)"
   ]
  },
  {
   "cell_type": "code",
   "execution_count": 5,
   "metadata": {},
   "outputs": [],
   "source": [
    "expenses_df['type'] = 'expense'\n",
    "incomes_df['type'] = 'income'\n",
    "\n",
    "expenses_df['amount'] = -expenses_df['amount']\n",
    "\n",
    "\n",
    "# Change index to expense/income id\n",
    "expenses_df.set_index('id', inplace=True)\n",
    "incomes_df.set_index('id', inplace=True)\n",
    "categories_df.set_index('id', inplace=True)\n",
    "places_df.set_index('id', inplace=True)\n",
    "accounts_df.set_index('id', inplace=True)"
   ]
  },
  {
   "cell_type": "code",
   "execution_count": 6,
   "metadata": {},
   "outputs": [],
   "source": [
    "expenses_df['account'] = expenses_df.apply(lambda x: accounts_df.loc[x['account_id'], 'name'] if not pd.isna(x['account_id']) else None, axis=1)\n",
    "\n",
    "\n",
    "incomes_df['account'] = incomes_df.apply(lambda x: accounts_df.loc[x['account_id'], 'name'] if not pd.isna(x['account_id']) else None, axis=1)"
   ]
  },
  {
   "cell_type": "code",
   "execution_count": 7,
   "metadata": {},
   "outputs": [
    {
     "data": {
      "text/html": [
       "<div>\n",
       "<style scoped>\n",
       "    .dataframe tbody tr th:only-of-type {\n",
       "        vertical-align: middle;\n",
       "    }\n",
       "\n",
       "    .dataframe tbody tr th {\n",
       "        vertical-align: top;\n",
       "    }\n",
       "\n",
       "    .dataframe thead th {\n",
       "        text-align: right;\n",
       "    }\n",
       "</style>\n",
       "<table border=\"1\" class=\"dataframe\">\n",
       "  <thead>\n",
       "    <tr style=\"text-align: right;\">\n",
       "      <th></th>\n",
       "      <th>amount</th>\n",
       "      <th>description</th>\n",
       "      <th>account_id</th>\n",
       "      <th>subcategory_id</th>\n",
       "      <th>date</th>\n",
       "      <th>owner_id</th>\n",
       "      <th>category_id</th>\n",
       "      <th>place_id</th>\n",
       "      <th>type</th>\n",
       "      <th>account</th>\n",
       "    </tr>\n",
       "    <tr>\n",
       "      <th>id</th>\n",
       "      <th></th>\n",
       "      <th></th>\n",
       "      <th></th>\n",
       "      <th></th>\n",
       "      <th></th>\n",
       "      <th></th>\n",
       "      <th></th>\n",
       "      <th></th>\n",
       "      <th></th>\n",
       "      <th></th>\n",
       "    </tr>\n",
       "  </thead>\n",
       "  <tbody>\n",
       "    <tr>\n",
       "      <th>1</th>\n",
       "      <td>-200.23</td>\n",
       "      <td>Say type lot blue night attorney.</td>\n",
       "      <td>2.0</td>\n",
       "      <td>14.0</td>\n",
       "      <td>2024-01-13</td>\n",
       "      <td>1</td>\n",
       "      <td>2.0</td>\n",
       "      <td>5.0</td>\n",
       "      <td>expense</td>\n",
       "      <td>Hunt-Moore</td>\n",
       "    </tr>\n",
       "    <tr>\n",
       "      <th>11</th>\n",
       "      <td>-200.23</td>\n",
       "      <td>Say type lot blue night attorney.</td>\n",
       "      <td>2.0</td>\n",
       "      <td>14.0</td>\n",
       "      <td>2024-01-14</td>\n",
       "      <td>1</td>\n",
       "      <td>2.0</td>\n",
       "      <td>5.0</td>\n",
       "      <td>expense</td>\n",
       "      <td>Hunt-Moore</td>\n",
       "    </tr>\n",
       "    <tr>\n",
       "      <th>2</th>\n",
       "      <td>-200.23</td>\n",
       "      <td>Say type lot blue night attorney.</td>\n",
       "      <td>NaN</td>\n",
       "      <td>NaN</td>\n",
       "      <td>None</td>\n",
       "      <td>1</td>\n",
       "      <td>NaN</td>\n",
       "      <td>NaN</td>\n",
       "      <td>expense</td>\n",
       "      <td>None</td>\n",
       "    </tr>\n",
       "    <tr>\n",
       "      <th>3</th>\n",
       "      <td>-200.23</td>\n",
       "      <td>Say type lot blue night attorney.</td>\n",
       "      <td>2.0</td>\n",
       "      <td>14.0</td>\n",
       "      <td>2024-01-13</td>\n",
       "      <td>1</td>\n",
       "      <td>2.0</td>\n",
       "      <td>5.0</td>\n",
       "      <td>expense</td>\n",
       "      <td>Hunt-Moore</td>\n",
       "    </tr>\n",
       "  </tbody>\n",
       "</table>\n",
       "</div>"
      ],
      "text/plain": [
       "    amount                        description  account_id  subcategory_id   \n",
       "id                                                                          \n",
       "1  -200.23  Say type lot blue night attorney.         2.0            14.0  \\\n",
       "11 -200.23  Say type lot blue night attorney.         2.0            14.0   \n",
       "2  -200.23  Say type lot blue night attorney.         NaN             NaN   \n",
       "3  -200.23  Say type lot blue night attorney.         2.0            14.0   \n",
       "\n",
       "          date  owner_id  category_id  place_id     type     account  \n",
       "id                                                                    \n",
       "1   2024-01-13         1          2.0       5.0  expense  Hunt-Moore  \n",
       "11  2024-01-14         1          2.0       5.0  expense  Hunt-Moore  \n",
       "2         None         1          NaN       NaN  expense        None  \n",
       "3   2024-01-13         1          2.0       5.0  expense  Hunt-Moore  "
      ]
     },
     "execution_count": 7,
     "metadata": {},
     "output_type": "execute_result"
    }
   ],
   "source": [
    "expenses_df"
   ]
  },
  {
   "cell_type": "code",
   "execution_count": 8,
   "metadata": {},
   "outputs": [
    {
     "data": {
      "text/html": [
       "<div>\n",
       "<style scoped>\n",
       "    .dataframe tbody tr th:only-of-type {\n",
       "        vertical-align: middle;\n",
       "    }\n",
       "\n",
       "    .dataframe tbody tr th {\n",
       "        vertical-align: top;\n",
       "    }\n",
       "\n",
       "    .dataframe thead th {\n",
       "        text-align: right;\n",
       "    }\n",
       "</style>\n",
       "<table border=\"1\" class=\"dataframe\">\n",
       "  <thead>\n",
       "    <tr style=\"text-align: right;\">\n",
       "      <th></th>\n",
       "      <th>amount</th>\n",
       "      <th>date</th>\n",
       "      <th>owner_id</th>\n",
       "      <th>subcategory_id</th>\n",
       "      <th>description</th>\n",
       "      <th>account_id</th>\n",
       "      <th>place_id</th>\n",
       "      <th>type</th>\n",
       "      <th>account</th>\n",
       "    </tr>\n",
       "    <tr>\n",
       "      <th>id</th>\n",
       "      <th></th>\n",
       "      <th></th>\n",
       "      <th></th>\n",
       "      <th></th>\n",
       "      <th></th>\n",
       "      <th></th>\n",
       "      <th></th>\n",
       "      <th></th>\n",
       "      <th></th>\n",
       "    </tr>\n",
       "  </thead>\n",
       "  <tbody>\n",
       "    <tr>\n",
       "      <th>53</th>\n",
       "      <td>100</td>\n",
       "      <td>2024-01-01</td>\n",
       "      <td>1</td>\n",
       "      <td>89.0</td>\n",
       "      <td>Production home painting blue pressure compute...</td>\n",
       "      <td>1.0</td>\n",
       "      <td>3.0</td>\n",
       "      <td>income</td>\n",
       "      <td>Bowers, Williams and Farmer</td>\n",
       "    </tr>\n",
       "    <tr>\n",
       "      <th>54</th>\n",
       "      <td>100</td>\n",
       "      <td>None</td>\n",
       "      <td>1</td>\n",
       "      <td>NaN</td>\n",
       "      <td>Production home painting blue pressure compute...</td>\n",
       "      <td>NaN</td>\n",
       "      <td>NaN</td>\n",
       "      <td>income</td>\n",
       "      <td>None</td>\n",
       "    </tr>\n",
       "  </tbody>\n",
       "</table>\n",
       "</div>"
      ],
      "text/plain": [
       "    amount        date  owner_id  subcategory_id   \n",
       "id                                                 \n",
       "53     100  2024-01-01         1            89.0  \\\n",
       "54     100        None         1             NaN   \n",
       "\n",
       "                                          description  account_id  place_id   \n",
       "id                                                                            \n",
       "53  Production home painting blue pressure compute...         1.0       3.0  \\\n",
       "54  Production home painting blue pressure compute...         NaN       NaN   \n",
       "\n",
       "      type                      account  \n",
       "id                                       \n",
       "53  income  Bowers, Williams and Farmer  \n",
       "54  income                         None  "
      ]
     },
     "execution_count": 8,
     "metadata": {},
     "output_type": "execute_result"
    }
   ],
   "source": [
    "incomes_df"
   ]
  },
  {
   "cell_type": "code",
   "execution_count": 9,
   "metadata": {},
   "outputs": [
    {
     "data": {
      "text/html": [
       "<div>\n",
       "<style scoped>\n",
       "    .dataframe tbody tr th:only-of-type {\n",
       "        vertical-align: middle;\n",
       "    }\n",
       "\n",
       "    .dataframe tbody tr th {\n",
       "        vertical-align: top;\n",
       "    }\n",
       "\n",
       "    .dataframe thead th {\n",
       "        text-align: right;\n",
       "    }\n",
       "</style>\n",
       "<table border=\"1\" class=\"dataframe\">\n",
       "  <thead>\n",
       "    <tr style=\"text-align: right;\">\n",
       "      <th></th>\n",
       "      <th>current_balance</th>\n",
       "      <th>total_incomes</th>\n",
       "      <th>total_transfers_out</th>\n",
       "      <th>name</th>\n",
       "      <th>initial_balance</th>\n",
       "      <th>total_expenses</th>\n",
       "      <th>total_transfers_in</th>\n",
       "      <th>owner_id</th>\n",
       "    </tr>\n",
       "    <tr>\n",
       "      <th>id</th>\n",
       "      <th></th>\n",
       "      <th></th>\n",
       "      <th></th>\n",
       "      <th></th>\n",
       "      <th></th>\n",
       "      <th></th>\n",
       "      <th></th>\n",
       "      <th></th>\n",
       "    </tr>\n",
       "  </thead>\n",
       "  <tbody>\n",
       "    <tr>\n",
       "      <th>5</th>\n",
       "      <td>169015.03</td>\n",
       "      <td>456005.85</td>\n",
       "      <td>98836.27</td>\n",
       "      <td>Cook LLC</td>\n",
       "      <td>31792.60</td>\n",
       "      <td>232140.29</td>\n",
       "      <td>12193.14</td>\n",
       "      <td>1</td>\n",
       "    </tr>\n",
       "    <tr>\n",
       "      <th>6</th>\n",
       "      <td>273308.62</td>\n",
       "      <td>495334.90</td>\n",
       "      <td>18000.06</td>\n",
       "      <td>Moon PLC</td>\n",
       "      <td>49502.23</td>\n",
       "      <td>369327.40</td>\n",
       "      <td>115798.95</td>\n",
       "      <td>1</td>\n",
       "    </tr>\n",
       "    <tr>\n",
       "      <th>8</th>\n",
       "      <td>60487.55</td>\n",
       "      <td>734578.27</td>\n",
       "      <td>302012.86</td>\n",
       "      <td>Gould and Sons</td>\n",
       "      <td>80218.77</td>\n",
       "      <td>569799.08</td>\n",
       "      <td>117502.45</td>\n",
       "      <td>1</td>\n",
       "    </tr>\n",
       "    <tr>\n",
       "      <th>1</th>\n",
       "      <td>192924.41</td>\n",
       "      <td>597175.28</td>\n",
       "      <td>116883.87</td>\n",
       "      <td>Bowers, Williams and Farmer</td>\n",
       "      <td>87.61</td>\n",
       "      <td>559033.87</td>\n",
       "      <td>271579.26</td>\n",
       "      <td>1</td>\n",
       "    </tr>\n",
       "    <tr>\n",
       "      <th>9</th>\n",
       "      <td>21877.00</td>\n",
       "      <td>576683.57</td>\n",
       "      <td>137216.23</td>\n",
       "      <td>Serrano-Garcia</td>\n",
       "      <td>37970.48</td>\n",
       "      <td>572226.87</td>\n",
       "      <td>116666.05</td>\n",
       "      <td>1</td>\n",
       "    </tr>\n",
       "    <tr>\n",
       "      <th>7</th>\n",
       "      <td>378619.12</td>\n",
       "      <td>800058.20</td>\n",
       "      <td>176201.92</td>\n",
       "      <td>Turner Inc</td>\n",
       "      <td>86066.30</td>\n",
       "      <td>451417.62</td>\n",
       "      <td>120114.16</td>\n",
       "      <td>1</td>\n",
       "    </tr>\n",
       "    <tr>\n",
       "      <th>4</th>\n",
       "      <td>177059.62</td>\n",
       "      <td>422111.07</td>\n",
       "      <td>182758.98</td>\n",
       "      <td>Byrd-Fernandez</td>\n",
       "      <td>51185.32</td>\n",
       "      <td>469465.00</td>\n",
       "      <td>355987.21</td>\n",
       "      <td>1</td>\n",
       "    </tr>\n",
       "    <tr>\n",
       "      <th>10</th>\n",
       "      <td>167521.99</td>\n",
       "      <td>510903.77</td>\n",
       "      <td>55750.33</td>\n",
       "      <td>Spencer, Tapia and Campbell</td>\n",
       "      <td>26160.32</td>\n",
       "      <td>500472.76</td>\n",
       "      <td>186680.99</td>\n",
       "      <td>1</td>\n",
       "    </tr>\n",
       "    <tr>\n",
       "      <th>2</th>\n",
       "      <td>-431364.24</td>\n",
       "      <td>301380.80</td>\n",
       "      <td>92706.61</td>\n",
       "      <td>Hunt-Moore</td>\n",
       "      <td>90243.93</td>\n",
       "      <td>842483.56</td>\n",
       "      <td>112201.20</td>\n",
       "      <td>1</td>\n",
       "    </tr>\n",
       "    <tr>\n",
       "      <th>3</th>\n",
       "      <td>1200.34</td>\n",
       "      <td>670541.73</td>\n",
       "      <td>249929.40</td>\n",
       "      <td>Smith PLC</td>\n",
       "      <td>94456.40</td>\n",
       "      <td>535441.51</td>\n",
       "      <td>21573.12</td>\n",
       "      <td>1</td>\n",
       "    </tr>\n",
       "  </tbody>\n",
       "</table>\n",
       "</div>"
      ],
      "text/plain": [
       "    current_balance  total_incomes  total_transfers_out   \n",
       "id                                                        \n",
       "5         169015.03      456005.85             98836.27  \\\n",
       "6         273308.62      495334.90             18000.06   \n",
       "8          60487.55      734578.27            302012.86   \n",
       "1         192924.41      597175.28            116883.87   \n",
       "9          21877.00      576683.57            137216.23   \n",
       "7         378619.12      800058.20            176201.92   \n",
       "4         177059.62      422111.07            182758.98   \n",
       "10        167521.99      510903.77             55750.33   \n",
       "2        -431364.24      301380.80             92706.61   \n",
       "3           1200.34      670541.73            249929.40   \n",
       "\n",
       "                           name  initial_balance  total_expenses   \n",
       "id                                                                 \n",
       "5                      Cook LLC         31792.60       232140.29  \\\n",
       "6                      Moon PLC         49502.23       369327.40   \n",
       "8                Gould and Sons         80218.77       569799.08   \n",
       "1   Bowers, Williams and Farmer            87.61       559033.87   \n",
       "9                Serrano-Garcia         37970.48       572226.87   \n",
       "7                    Turner Inc         86066.30       451417.62   \n",
       "4                Byrd-Fernandez         51185.32       469465.00   \n",
       "10  Spencer, Tapia and Campbell         26160.32       500472.76   \n",
       "2                    Hunt-Moore         90243.93       842483.56   \n",
       "3                     Smith PLC         94456.40       535441.51   \n",
       "\n",
       "    total_transfers_in  owner_id  \n",
       "id                                \n",
       "5             12193.14         1  \n",
       "6            115798.95         1  \n",
       "8            117502.45         1  \n",
       "1            271579.26         1  \n",
       "9            116666.05         1  \n",
       "7            120114.16         1  \n",
       "4            355987.21         1  \n",
       "10           186680.99         1  \n",
       "2            112201.20         1  \n",
       "3             21573.12         1  "
      ]
     },
     "execution_count": 9,
     "metadata": {},
     "output_type": "execute_result"
    }
   ],
   "source": [
    "accounts_df"
   ]
  },
  {
   "cell_type": "markdown",
   "metadata": {},
   "source": [
    "---\n",
    "\n",
    "get total by account, this includes incomes - expenses"
   ]
  },
  {
   "cell_type": "code",
   "execution_count": 10,
   "metadata": {},
   "outputs": [],
   "source": [
    "combined_df = pd.concat([expenses_df, incomes_df], sort=False)"
   ]
  },
  {
   "cell_type": "code",
   "execution_count": 11,
   "metadata": {},
   "outputs": [
    {
     "data": {
      "text/plain": [
       "account                      date      \n",
       "Bowers, Williams and Farmer  2024-01-01    100.00\n",
       "Hunt-Moore                   2024-01-13   -400.46\n",
       "                             2024-01-14   -200.23\n",
       "Name: amount, dtype: float64"
      ]
     },
     "execution_count": 11,
     "metadata": {},
     "output_type": "execute_result"
    }
   ],
   "source": [
    "combined_df.groupby(['account', 'date'])['amount'].sum()"
   ]
  },
  {
   "cell_type": "code",
   "execution_count": 12,
   "metadata": {},
   "outputs": [
    {
     "data": {
      "text/plain": [
       "'{\"Bowers, Williams and Farmer\":100.0,\"Hunt-Moore\":-600.69}'"
      ]
     },
     "execution_count": 12,
     "metadata": {},
     "output_type": "execute_result"
    }
   ],
   "source": [
    "# get total by account, this includes incomes - expenses\n",
    "combined_df.groupby('account')['amount'].sum().to_json()"
   ]
  },
  {
   "cell_type": "code",
   "execution_count": 13,
   "metadata": {},
   "outputs": [],
   "source": [
    "past = {\"Bowers, Williams and Farmer\":304336.03,\"Byrd-Fernandez\":-123331.43,\"Cook LLC\":77945.59,\"Gould and Sons\":35309.2,\"Hunt-Moore\":-244928.46,\"Moon PLC\":30334.0,\"Serrano-Garcia\":-445900.19,\"Smith PLC\":231606.22,\"Spencer, Tapia and Campbell\":6123.93,\"Turner Inc\":-58556.06}\n",
    "actual = {\"Bowers, Williams and Farmer\":-266194.62,\"Byrd-Fernandez\":75977.5,\"Cook LLC\":145919.97,\"Gould and Sons\":129469.99,\"Hunt-Moore\":-296174.3,\"Moon PLC\":95673.5,\"Serrano-Garcia\":450356.89,\"Smith PLC\":-96506.0,\"Spencer, Tapia and Campbell\":4307.08,\"Turner Inc\":407196.64, \"test\": 100}"
   ]
  },
  {
   "cell_type": "code",
   "execution_count": 14,
   "metadata": {},
   "outputs": [],
   "source": [
    "def percentage(past, actual):\n",
    "    if past == actual or actual == 0:\n",
    "        return 0\n",
    "\n",
    "    if past == 0:\n",
    "        return 100\n",
    "\n",
    "    return round(((actual - past) / abs(past)) * 100, 2)\n"
   ]
  },
  {
   "cell_type": "code",
   "execution_count": 15,
   "metadata": {},
   "outputs": [
    {
     "data": {
      "text/plain": [
       "{'Bowers, Williams and Farmer': -187.47,\n",
       " 'Byrd-Fernandez': 161.6,\n",
       " 'Cook LLC': 87.21,\n",
       " 'Gould and Sons': 266.67,\n",
       " 'Hunt-Moore': -20.92,\n",
       " 'Moon PLC': 215.4,\n",
       " 'Serrano-Garcia': 201.0,\n",
       " 'Smith PLC': -141.67,\n",
       " 'Spencer, Tapia and Campbell': -29.67,\n",
       " 'Turner Inc': 795.4,\n",
       " 'test': 100}"
      ]
     },
     "execution_count": 15,
     "metadata": {},
     "output_type": "execute_result"
    }
   ],
   "source": [
    "result = {}\n",
    "\n",
    "for account, value in actual.items():\n",
    "    if account in past:\n",
    "        result[account] = percentage(past[account], value)\n",
    "    else:\n",
    "        result[account] = 100\n",
    "\n",
    "result"
   ]
  },
  {
   "cell_type": "markdown",
   "metadata": {},
   "source": [
    "---"
   ]
  },
  {
   "cell_type": "code",
   "execution_count": 16,
   "metadata": {},
   "outputs": [],
   "source": [
    "combined_df['date'] = pd.to_datetime(combined_df['date'])"
   ]
  },
  {
   "cell_type": "code",
   "execution_count": 17,
   "metadata": {},
   "outputs": [
    {
     "data": {
      "text/plain": [
       "amount                   float64\n",
       "description               object\n",
       "account_id               float64\n",
       "subcategory_id           float64\n",
       "date              datetime64[ns]\n",
       "owner_id                   int64\n",
       "category_id              float64\n",
       "place_id                 float64\n",
       "type                      object\n",
       "account                   object\n",
       "dtype: object"
      ]
     },
     "execution_count": 17,
     "metadata": {},
     "output_type": "execute_result"
    }
   ],
   "source": [
    "combined_df.dtypes"
   ]
  },
  {
   "cell_type": "code",
   "execution_count": 18,
   "metadata": {},
   "outputs": [
    {
     "data": {
      "text/plain": [
       "{'Bowers, Williams and Farmer': {'xAxis': {'data': ['2024-01-01']},\n",
       "  'series': {'data': [100.0]}},\n",
       " 'Hunt-Moore': {'xAxis': {'data': ['2024-01-13', '2024-01-14']},\n",
       "  'series': {'data': [-400.46, -200.23]}}}"
      ]
     },
     "execution_count": 18,
     "metadata": {},
     "output_type": "execute_result"
    }
   ],
   "source": [
    "df = combined_df.groupby(['account', 'date'])['amount'].sum()\n",
    "\n",
    "result = {}\n",
    "\n",
    "for account, value in df.items():\n",
    "    if account[0] not in result:\n",
    "        result[account[0]] = {\n",
    "            'xAxis': {\n",
    "                'data': []\n",
    "            },\n",
    "            'series': {\n",
    "                'data': []\n",
    "            }\n",
    "        }\n",
    "\n",
    "    result[account[0]]['xAxis']['data'].append(account[1].strftime('%Y-%m-%d'))\n",
    "    result[account[0]]['series']['data'].append(value)\n",
    "\n",
    "result\n"
   ]
  },
  {
   "cell_type": "code",
   "execution_count": 19,
   "metadata": {},
   "outputs": [
    {
     "data": {
      "text/plain": [
       "{('Bowers, Williams and Farmer', Timestamp('2024-01-01 00:00:00')): 100.0,\n",
       " ('Hunt-Moore', Timestamp('2024-01-13 00:00:00')): -400.46,\n",
       " ('Hunt-Moore', Timestamp('2024-01-14 00:00:00')): -200.23}"
      ]
     },
     "execution_count": 19,
     "metadata": {},
     "output_type": "execute_result"
    }
   ],
   "source": [
    "df.to_dict()"
   ]
  }
 ],
 "metadata": {
  "kernelspec": {
   "display_name": "Python 3.11.0 64-bit ('3.11.0')",
   "language": "python",
   "name": "python3"
  },
  "language_info": {
   "codemirror_mode": {
    "name": "ipython",
    "version": 3
   },
   "file_extension": ".py",
   "mimetype": "text/x-python",
   "name": "python",
   "nbconvert_exporter": "python",
   "pygments_lexer": "ipython3",
   "version": "3.11.0"
  },
  "orig_nbformat": 4,
  "vscode": {
   "interpreter": {
    "hash": "5d25e05b11afe9c4df7983e9f0f433fe307da6fe34049fd8f4b4fa8dc3026d45"
   }
  }
 },
 "nbformat": 4,
 "nbformat_minor": 2
}
