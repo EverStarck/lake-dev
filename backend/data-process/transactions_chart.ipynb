{
 "cells": [
  {
   "cell_type": "code",
   "execution_count": 1,
   "metadata": {},
   "outputs": [],
   "source": [
    "import pandas as pd\n",
    "import calendar\n",
    "import datetime\n",
    "from dateutil.relativedelta import relativedelta\n",
    "import numpy as np"
   ]
  },
  {
   "cell_type": "code",
   "execution_count": 2,
   "metadata": {},
   "outputs": [],
   "source": [
    "categories = [{'id': 1, 'color': '#FF5733', 'is_default': True, 'name': 'Compras', 'description': None, 'icon': 'shoppingBag', 'owner_id': 1, 'subcategories': [{'name': 'Compras', 'description': None, 'is_default': True, 'category_id': 1, 'id': 1, 'icon': 'shoppingBag', 'owner_id': 1}, {'name': 'Bebés, niños', 'description': None, 'is_default': True, 'category_id': 1, 'id': 2, 'icon': 'baby', 'owner_id': 1}, {'name': 'Casa y jardín', 'description': None, 'is_default': True, 'category_id': 1, 'id': 3, 'icon': 'lampDesk', 'owner_id': 1}, {'name': 'Electrónica, accesorios', 'description': None, 'is_default': True, 'category_id': 1, 'id': 4, 'icon': 'laptop2', 'owner_id': 1}, {'name': 'Joyas, accesorios', 'description': None, 'is_default': True, 'category_id': 1, 'id': 5, 'icon': 'gem', 'owner_id': 1}, {'name': 'Mascotas, animales', 'description': None, 'is_default': True, 'category_id': 1, 'id': 6, 'icon': 'cat', 'owner_id': 1}, {'name': 'Papelería, herramientas', 'description': None, 'is_default': True, 'category_id': 1, 'id': 7, 'icon': 'scissors', 'owner_id': 1}, {'name': 'Regalos', 'description': None, 'is_default': True, 'category_id': 1, 'id': 8, 'icon': 'gift', 'owner_id': 1}, {'name': 'Ropa y calzado', 'description': None, 'is_default': True, 'category_id': 1, 'id': 9, 'icon': 'shirt', 'owner_id': 1}, {'name': 'Tiempo libre', 'description': None, 'is_default': True, 'category_id': 1, 'id': 10, 'icon': 'mountain', 'owner_id': 1}, {'name': 'Libros', 'description': None, 'is_default': True, 'category_id': 1, 'id': 11, 'icon': 'book', 'owner_id': 1}]}, {'id': 2, 'color': '#6DDA6B', 'is_default': True, 'name': 'Alimentos y bebidas', 'description': None, 'icon': 'apple', 'owner_id': 1, 'subcategories': [{'name': 'Alimentos y bebidas', 'description': None, 'is_default': True, 'category_id': 2, 'id': 12, 'icon': 'apple', 'owner_id': 1}, {'name': 'Comestibles, despensa', 'description': None, 'is_default': True, 'category_id': 2, 'id': 13, 'icon': 'beef', 'owner_id': 1}, {'name': 'Restaurante, comida rápida', 'description': None, 'is_default': True, 'category_id': 2, 'id': 14, 'icon': 'pizza', 'owner_id': 1}, {'name': 'Café', 'description': None, 'is_default': True, 'category_id': 2, 'id': 15, 'icon': 'coffee', 'owner_id': 1}, {'name': 'Alcohol', 'description': None, 'is_default': True, 'category_id': 2, 'id': 16, 'icon': 'beer', 'owner_id': 1}, {'name': 'Vino', 'description': None, 'is_default': True, 'category_id': 2, 'id': 17, 'icon': 'wine', 'owner_id': 1}]}, {'id': 3, 'color': '#4F4F4F', 'is_default': True, 'name': 'Seguros', 'description': None, 'icon': 'receipt', 'owner_id': 1, 'subcategories': [{'name': 'Seguros', 'description': None, 'is_default': True, 'category_id': 3, 'id': 18, 'icon': 'receipt', 'owner_id': 1}, {'name': 'Hogar', 'description': None, 'is_default': True, 'category_id': 3, 'id': 19, 'icon': 'home', 'owner_id': 1}, {'name': 'Médico', 'description': None, 'is_default': True, 'category_id': 3, 'id': 20, 'icon': 'stethoscope', 'owner_id': 1}, {'name': 'Viaje', 'description': None, 'is_default': True, 'category_id': 3, 'id': 21, 'icon': 'plane', 'owner_id': 1}, {'name': 'Vida', 'description': None, 'is_default': True, 'category_id': 3, 'id': 22, 'icon': 'heart', 'owner_id': 1}, {'name': 'Auto', 'description': None, 'is_default': True, 'category_id': 3, 'id': 23, 'icon': 'car', 'owner_id': 1}, {'name': 'Motocicleta', 'description': None, 'is_default': True, 'category_id': 3, 'id': 24, 'icon': 'bike', 'owner_id': 1}, {'name': 'Mascota', 'description': None, 'is_default': True, 'category_id': 3, 'id': 25, 'icon': 'dog', 'owner_id': 1}]}, {'id': 4, 'color': '#FFC300', 'is_default': True, 'name': 'Vivienda', 'description': None, 'icon': 'home', 'owner_id': 1, 'subcategories': [{'name': 'Vivienda', 'description': None, 'is_default': True, 'category_id': 4, 'id': 26, 'icon': 'home', 'owner_id': 1}, {'name': 'Renta', 'description': None, 'is_default': True, 'category_id': 4, 'id': 27, 'icon': 'dollarSign', 'owner_id': 1}, {'name': 'Mantenimiento, reparaciones', 'description': None, 'is_default': True, 'category_id': 4, 'id': 28, 'icon': 'hammer', 'owner_id': 1}, {'name': 'Servicio doméstico', 'description': None, 'is_default': True, 'category_id': 4, 'id': 29, 'icon': 'personStanding', 'owner_id': 1}, {'name': 'Alarmas y seguridad', 'description': None, 'is_default': True, 'category_id': 4, 'id': 30, 'icon': 'webcam', 'owner_id': 1}]}, {'id': 5, 'color': '#B041FF', 'is_default': True, 'name': 'Vehículos', 'description': None, 'icon': 'car', 'owner_id': 1, 'subcategories': [{'name': 'Vehículos', 'description': None, 'is_default': True, 'category_id': 5, 'id': 31, 'icon': 'car', 'owner_id': 1}, {'name': 'Alquiler', 'description': None, 'is_default': True, 'category_id': 5, 'id': 32, 'icon': 'dollarSign', 'owner_id': 1}, {'name': 'Combustible', 'description': None, 'is_default': True, 'category_id': 5, 'id': 33, 'icon': 'fuel', 'owner_id': 1}, {'name': 'Estacionamiento', 'description': None, 'is_default': True, 'category_id': 5, 'id': 34, 'icon': 'ParkingCircle', 'owner_id': 1}, {'name': 'Mantenimiento', 'description': None, 'is_default': True, 'category_id': 5, 'id': 35, 'icon': 'wrench', 'owner_id': 1}, {'name': 'Compra de vehículo', 'description': None, 'is_default': True, 'category_id': 5, 'id': 36, 'icon': 'store', 'owner_id': 1}]}, {'id': 6, 'color': '#FF9800', 'is_default': True, 'name': 'Vida y entretenimiento', 'description': None, 'icon': 'smile', 'owner_id': 1, 'subcategories': [{'name': 'Vida y entretenimiento', 'description': None, 'is_default': True, 'category_id': 6, 'id': 37, 'icon': 'smile', 'owner_id': 1}, {'name': 'Educación, desarrollo', 'description': None, 'is_default': True, 'category_id': 6, 'id': 38, 'icon': 'graduationCap', 'owner_id': 1}, {'name': 'Pasatiempos', 'description': None, 'is_default': True, 'category_id': 6, 'id': 39, 'icon': 'puzzle', 'owner_id': 1}, {'name': 'Vacaciones, viajes, hoteles', 'description': None, 'is_default': True, 'category_id': 6, 'id': 40, 'icon': 'palmtree', 'owner_id': 1}, {'name': 'Apuestas', 'description': None, 'is_default': True, 'category_id': 6, 'id': 41, 'icon': 'dice5', 'owner_id': 1}, {'name': 'Diversión y celebraciones', 'description': None, 'is_default': True, 'category_id': 6, 'id': 42, 'icon': 'partyPopper', 'owner_id': 1}, {'name': 'Cigarros, tabaco', 'description': None, 'is_default': True, 'category_id': 6, 'id': 43, 'icon': 'cigarette', 'owner_id': 1}, {'name': 'Bienestar, belleza', 'description': None, 'is_default': True, 'category_id': 6, 'id': 44, 'icon': 'sparkles', 'owner_id': 1}, {'name': 'Caridad, regalos', 'description': None, 'is_default': True, 'category_id': 6, 'id': 45, 'icon': 'gift', 'owner_id': 1}, {'name': 'Cultura, arte, eventos deportivos', 'description': None, 'is_default': True, 'category_id': 6, 'id': 46, 'icon': 'flagTriangleRight', 'owner_id': 1}]}, {'id': 7, 'color': '#27AE60', 'is_default': True, 'name': 'Salud y deporte', 'description': None, 'icon': 'activity', 'owner_id': 1, 'subcategories': [{'name': 'Salud y deporte', 'description': None, 'is_default': True, 'category_id': 7, 'id': 47, 'icon': 'activity', 'owner_id': 1}, {'name': 'Deporte, gym', 'description': None, 'is_default': True, 'category_id': 7, 'id': 48, 'icon': 'dumbbell', 'owner_id': 1}, {'name': 'Médico', 'description': None, 'is_default': True, 'category_id': 7, 'id': 49, 'icon': 'stethoscope', 'owner_id': 1}, {'name': 'Farmacia', 'description': None, 'is_default': True, 'category_id': 7, 'id': 50, 'icon': 'pill', 'owner_id': 1}, {'name': 'Optica', 'description': None, 'is_default': True, 'category_id': 7, 'id': 51, 'icon': 'glasses', 'owner_id': 1}, {'name': 'Denstista', 'description': None, 'is_default': True, 'category_id': 7, 'id': 52, 'icon': 'laugh', 'owner_id': 1}]}, {'id': 8, 'color': '#9B59B6', 'is_default': True, 'name': 'Suscripciones y servicios', 'description': None, 'icon': 'cable', 'owner_id': 1, 'subcategories': [{'name': 'Suscripciones y servicios', 'description': None, 'is_default': True, 'category_id': 8, 'id': 53, 'icon': 'cable', 'owner_id': 1}, {'name': 'Compras y servicios online', 'description': None, 'is_default': True, 'category_id': 8, 'id': 54, 'icon': 'shoppingCart', 'owner_id': 1}, {'name': 'Celular', 'description': None, 'is_default': True, 'category_id': 8, 'id': 55, 'icon': 'smartphone', 'owner_id': 1}, {'name': 'Entretenimiento digital', 'description': None, 'is_default': True, 'category_id': 8, 'id': 56, 'icon': 'monitorPlay', 'owner_id': 1}, {'name': 'Internet, televisión, telefonía', 'description': None, 'is_default': True, 'category_id': 8, 'id': 57, 'icon': 'wifi', 'owner_id': 1}, {'name': 'Software, aplicaciones, juegos', 'description': None, 'is_default': True, 'category_id': 8, 'id': 58, 'icon': 'gamepad2', 'owner_id': 1}, {'name': 'Electricidad', 'description': None, 'is_default': True, 'category_id': 8, 'id': 59, 'icon': 'plug2', 'owner_id': 1}, {'name': 'Agua', 'description': None, 'is_default': True, 'category_id': 8, 'id': 60, 'icon': 'droplets', 'owner_id': 1}, {'name': 'Gas', 'description': None, 'is_default': True, 'category_id': 8, 'id': 61, 'icon': 'flame', 'owner_id': 1}]}, {'id': 9, 'color': '#F44336', 'is_default': True, 'name': 'Gastos financieros', 'description': None, 'icon': 'landmark', 'owner_id': 1, 'subcategories': [{'name': 'Gastos financieros', 'description': None, 'is_default': True, 'category_id': 9, 'id': 62, 'icon': 'landmark', 'owner_id': 1}, {'name': 'Asignación familiar', 'description': None, 'is_default': True, 'category_id': 9, 'id': 63, 'icon': 'scanFace', 'owner_id': 1}, {'name': 'Cargos, honorarios', 'description': None, 'is_default': True, 'category_id': 9, 'id': 64, 'icon': 'banknote', 'owner_id': 1}, {'name': 'Asesores, abogados', 'description': None, 'is_default': True, 'category_id': 9, 'id': 65, 'icon': 'scale', 'owner_id': 1}, {'name': 'Impuestos', 'description': None, 'is_default': True, 'category_id': 9, 'id': 66, 'icon': 'badgePercent', 'owner_id': 1}, {'name': 'Multas, licencias', 'description': None, 'is_default': True, 'category_id': 9, 'id': 67, 'icon': 'banknote', 'owner_id': 1}, {'name': 'Préstamos', 'description': None, 'is_default': True, 'category_id': 9, 'id': 68, 'icon': 'wallet', 'owner_id': 1}, {'name': 'Seguro social, salud', 'description': None, 'is_default': True, 'category_id': 9, 'id': 69, 'icon': 'fileHeart', 'owner_id': 1}, {'name': 'Tramites y registro civil', 'description': None, 'is_default': True, 'category_id': 9, 'id': 70, 'icon': 'granttChartSquare', 'owner_id': 1}, {'name': 'Pensión familiar', 'description': None, 'is_default': True, 'category_id': 9, 'id': 71, 'icon': 'contact2', 'owner_id': 1}]}, {'id': 10, 'color': '#3498DB', 'is_default': True, 'name': 'Inversiones', 'description': None, 'icon': 'activity', 'owner_id': 1, 'subcategories': [{'name': 'Inversiones', 'description': None, 'is_default': True, 'category_id': 10, 'id': 72, 'icon': 'activity', 'owner_id': 1}, {'name': 'Ahorros', 'description': None, 'is_default': True, 'category_id': 10, 'id': 73, 'icon': 'piggyBank', 'owner_id': 1}, {'name': 'Bienes raíces', 'description': None, 'is_default': True, 'category_id': 10, 'id': 74, 'icon': 'home', 'owner_id': 1}, {'name': 'Coleccionables', 'description': None, 'is_default': True, 'category_id': 10, 'id': 75, 'icon': 'diamond', 'owner_id': 1}, {'name': 'Inversiones financieras', 'description': None, 'is_default': True, 'category_id': 10, 'id': 76, 'icon': 'candlestickChart', 'owner_id': 1}, {'name': 'Vehículos, propiedades', 'description': None, 'is_default': True, 'category_id': 10, 'id': 77, 'icon': 'warehouse', 'owner_id': 1}]}, {'id': 11, 'color': '#4AAE27', 'is_default': True, 'name': 'Ingresos', 'description': None, 'icon': 'barChart', 'owner_id': 1, 'subcategories': [{'name': 'Ingresos', 'description': None, 'is_default': True, 'category_id': 11, 'id': 78, 'icon': 'barChart', 'owner_id': 1}, {'name': 'Ventas', 'description': None, 'is_default': True, 'category_id': 11, 'id': 79, 'icon': 'badgeDollarSign', 'owner_id': 1}, {'name': 'Salarios', 'description': None, 'is_default': True, 'category_id': 11, 'id': 80, 'icon': 'briefcase', 'owner_id': 1}, {'name': 'Regalos', 'description': None, 'is_default': True, 'category_id': 11, 'id': 81, 'icon': 'gift', 'owner_id': 1}, {'name': 'Devolución impuestos', 'description': None, 'is_default': True, 'category_id': 11, 'id': 82, 'icon': 'building2', 'owner_id': 1}, {'name': 'Rembolsos', 'description': None, 'is_default': True, 'category_id': 11, 'id': 83, 'icon': 'undo2', 'owner_id': 1}, {'name': 'Préstamos', 'description': None, 'is_default': True, 'category_id': 11, 'id': 84, 'icon': 'arrowLeftRight', 'owner_id': 1}, {'name': 'Rentas', 'description': None, 'is_default': True, 'category_id': 11, 'id': 85, 'icon': 'home', 'owner_id': 1}, {'name': 'Lotería, juegos de azar', 'description': None, 'is_default': True, 'category_id': 11, 'id': 86, 'icon': 'dice5', 'owner_id': 1}, {'name': 'Pensiones', 'description': None, 'is_default': True, 'category_id': 11, 'id': 87, 'icon': 'userSquare2', 'owner_id': 1}, {'name': 'Subvenciones y ayudas', 'description': None, 'is_default': True, 'category_id': 11, 'id': 88, 'icon': 'helpingHand', 'owner_id': 1}, {'name': 'Rendimientos, inversiones', 'description': None, 'is_default': True, 'category_id': 11, 'id': 89, 'icon': 'barChart3', 'owner_id': 1}]}]\n",
    "\n",
    "\n",
    "places = [{'name': 'Sawyer-Johnson', 'is_online': True, 'id': 1, 'owner_id': 1}, {'name': 'Lambert, David and Brooks', 'is_online': False, 'id': 2, 'owner_id': 1}, {'name': 'Doyle-Crawford', 'is_online': True, 'id': 3, 'owner_id': 1}, {'name': 'Mcclure, Thompson and Kelly', 'is_online': False, 'id': 4, 'owner_id': 1}, {'name': 'Moore-Wyatt', 'is_online': False, 'id': 5, 'owner_id': 1}, {'name': 'Wright Group', 'is_online': False, 'id': 6, 'owner_id': 1}, {'name': 'Vazquez Inc', 'is_online': False, 'id': 7, 'owner_id': 1}, {'name': 'Schwartz, Buchanan and Johnson', 'is_online': False, 'id': 8, 'owner_id': 1}, {'name': 'Jenkins Inc', 'is_online': True, 'id': 9, 'owner_id': 1}, {'name': 'Johnson-Banks', 'is_online': True, 'id': 10, 'owner_id': 1}]\n",
    "\n",
    "\n",
    "accounts = [{'id': 5, 'current_balance': 169015.02999999997, 'total_incomes': 456005.85000000003, 'total_transfers_out': 98836.27, 'name': 'Cook LLC', 'initial_balance': 31792.6, 'total_expenses': 232140.28999999998, 'total_transfers_in': 12193.14, 'owner_id': 1}, {'id': 6, 'current_balance': 273308.62000000005, 'total_incomes': 495334.9000000001, 'total_transfers_out': 18000.059999999998, 'name': 'Moon PLC', 'initial_balance': 49502.23, 'total_expenses': 369327.4, 'total_transfers_in': 115798.95, 'owner_id': 1}, {'id': 8, 'current_balance': 60487.54999999993, 'total_incomes': 734578.27, 'total_transfers_out': 302012.86, 'name': 'Gould and Sons', 'initial_balance': 80218.77, 'total_expenses': 569799.0800000001, 'total_transfers_in': 117502.45000000001, 'owner_id': 1}, {'id': 1, 'current_balance': 192924.40999999997, 'total_incomes': 597175.28, 'total_transfers_out': 116883.87, 'name': 'Bowers, Williams and Farmer', 'initial_balance': 87.61, 'total_expenses': 559033.87, 'total_transfers_in': 271579.26, 'owner_id': 1}, {'id': 9, 'current_balance': 21877.000000000102, 'total_incomes': 576683.57, 'total_transfers_out': 137216.22999999998, 'name': 'Serrano-Garcia', 'initial_balance': 37970.48, 'total_expenses': 572226.87, 'total_transfers_in': 116666.04999999999, 'owner_id': 1}, {'id': 7, 'current_balance': 378619.1200000001, 'total_incomes': 800058.2, 'total_transfers_out': 176201.91999999998, 'name': 'Turner Inc', 'initial_balance': 86066.3, 'total_expenses': 451417.62, 'total_transfers_in': 120114.15999999999, 'owner_id': 1}, {'id': 4, 'current_balance': 177059.62, 'total_incomes': 422111.07000000007, 'total_transfers_out': 182758.97999999998, 'name': 'Byrd-Fernandez', 'initial_balance': 51185.32, 'total_expenses': 469465.0, 'total_transfers_in': 355987.2100000001, 'owner_id': 1}, {'id': 10, 'current_balance': 167521.98999999987, 'total_incomes': 510903.76999999996, 'total_transfers_out': 55750.33, 'name': 'Spencer, Tapia and Campbell', 'initial_balance': 26160.32, 'total_expenses': 500472.76000000007, 'total_transfers_in': 186680.99, 'owner_id': 1}, {'id': 2, 'current_balance': -431364.24, 'total_incomes': 301380.8, 'total_transfers_out': 92706.60999999999, 'name': 'Hunt-Moore', 'initial_balance': 90243.93, 'total_expenses': 842483.5600000002, 'total_transfers_in': 112201.2, 'owner_id': 1}, {'id': 3, 'current_balance': 1200.3400000000183, 'total_incomes': 670541.73, 'total_transfers_out': 249929.4, 'name': 'Smith PLC', 'initial_balance': 94456.4, 'total_expenses': 535441.5099999999, 'total_transfers_in': 21573.12, 'owner_id': 1}]\n",
    "\n",
    "\n",
    "expenses_past = [{'id': 2, 'amount': 48573.48, 'description': 'Market body despite commercial.', 'account_id': 9, 'subcategory_id': 8, 'date': '2023-01-01', 'owner_id': 1, 'category_id': 10, 'place_id': 3},{'id': 3, 'amount': 300, 'description': 'Market body despite commercial.', 'account_id': 1, 'subcategory_id': 8, 'date': '2022-11-12', 'owner_id': 1, 'category_id': 10, 'place_id': 3}]\n",
    "\n",
    "\n",
    "# expenses_actual = [{'id': 1, 'amount': 200.23, 'description': 'Say type lot blue night attorney.', 'account_id': 2, 'subcategory_id': 7, 'date': '2022-11-13', 'owner_id': 1, 'category_id': 2, 'place_id': 5}, {'id': 2, 'amount': 100.77, 'description': '', 'account_id': 2, 'subcategory_id': 7, 'date': '2022-11-13', 'owner_id': 1, 'category_id': 2, 'place_id': 5},{'id': 3, 'amount': 800, 'description': '', 'account_id': 1, 'subcategory_id': 7, 'date': '2022-11-13', 'owner_id': 1, 'category_id': 2, 'place_id': 5},{'id': 4, 'amount': 1000, 'description': '', 'account_id': 1, 'subcategory_id': 7, 'date': '2023-01-01', 'owner_id': 1, 'category_id': 2, 'place_id': 5}]\n",
    "\n",
    "expenses_actual = [{'id': 1, 'amount': 200.23, 'description': 'Say type lot blue night attorney.', 'account_id': 2, 'subcategory_id': 7, 'date': '2024-01-13', 'owner_id': 1, 'category_id': 2, 'place_id': 5}]\n",
    "\n",
    "\n",
    "incomes_past = []\n",
    "\n",
    "# incomes_actual = [{'amount': 99666.44, 'date': '2022-11-13', 'owner_id': 1, 'subcategory_id': 10, 'id': 53, 'description': 'Production home painting blue pressure computer lot also.', 'account_id': 1, 'place_id': 3}, {'amount': 89391.73, 'date': '2022-11-13', 'owner_id': 1, 'subcategory_id': 10, 'id': 1, 'description': 'Name success attention look article wife.', 'account_id': 8, 'place_id': 3}, {'amount': 500, 'date': '2022-01-13', 'owner_id': 1, 'subcategory_id': 10, 'id': 321, 'description': 'Name success attention look article wife.', 'account_id': 8, 'place_id': 3}]\n",
    "\n",
    "incomes_actual = [{'amount': 100, 'date': '2024-01-01', 'owner_id': 1, 'subcategory_id': 10, 'id': 53, 'description': 'Production home painting blue pressure computer lot also.', 'account_id': 1, 'place_id': 3}]\n"
   ]
  },
  {
   "cell_type": "code",
   "execution_count": 3,
   "metadata": {},
   "outputs": [],
   "source": [
    "incomes_actual_df = pd.DataFrame(incomes_actual)\n",
    "incomes_past_df = pd.DataFrame(incomes_past)\n",
    "expenses_actual_df = pd.DataFrame(expenses_actual)\n",
    "expenses_past_df = pd.DataFrame(expenses_past)\n",
    "accounts_df = pd.DataFrame(accounts)\n",
    "places_df = pd.DataFrame(places)\n",
    "categories_df = pd.DataFrame(categories)"
   ]
  },
  {
   "cell_type": "markdown",
   "metadata": {},
   "source": [
    "# Transactions (expenses, incomes, total) by filtered date:\n",
    "## ⚠️ This does not needs PAST data. ⚠️\n",
    "\n",
    "- Year should show all months\n",
    "- Quarter should show months of that quarter\n",
    "- Month should show the 4 weeks of the month\n",
    "- Week should show the days of the week\n",
    "- Date should show the date\n",
    "- Range should show the days of the range\n",
    "\n",
    "![Untitled](https://i.imgur.com/gkC7DN2.png)"
   ]
  },
  {
   "cell_type": "markdown",
   "metadata": {},
   "source": [
    "---\n",
    "\n",
    "## Year"
   ]
  },
  {
   "cell_type": "code",
   "execution_count": 4,
   "metadata": {},
   "outputs": [],
   "source": [
    "## Year (Should show all months)\n",
    "\n",
    "# Category expenses and incomes\n",
    "expenses_actual_df['type'] = 'expense'\n",
    "incomes_actual_df['type'] = 'income'\n",
    "\n",
    "expenses_actual_df['amount'] = -expenses_actual_df['amount']\n",
    "\n",
    "\n",
    "# Change index to expense/income id\n",
    "expenses_actual_df.set_index('id', inplace=True)\n",
    "incomes_actual_df.set_index('id', inplace=True)\n",
    "\n",
    "# Make df with all months\n",
    "all_months = pd.DataFrame({'month': calendar.month_name[1:]})\n",
    "\n",
    "combined_df = pd.concat([expenses_actual_df, incomes_actual_df], ignore_index=True)"
   ]
  },
  {
   "cell_type": "code",
   "execution_count": 5,
   "metadata": {},
   "outputs": [],
   "source": [
    "# Convert date to datetime and add month column\n",
    "combined_df['date'] = pd.to_datetime(combined_df['date'])\n",
    "combined_df['month'] = combined_df['date'].dt.strftime('%B')\n",
    "\n",
    "# Sort by date\n",
    "combined_df.sort_values(by='date', inplace=True)"
   ]
  },
  {
   "cell_type": "code",
   "execution_count": null,
   "metadata": {},
   "outputs": [],
   "source": [
    "# Add quarter column (quarter)\n",
    "combined_df['quarter'] = combined_df['date'].dt.quarter"
   ]
  },
  {
   "cell_type": "code",
   "execution_count": null,
   "metadata": {},
   "outputs": [],
   "source": [
    "# Add day of week column (week)\n",
    "combined_df['day_of_week'] = combined_df['date'].dt.day_name()"
   ]
  },
  {
   "cell_type": "code",
   "execution_count": null,
   "metadata": {},
   "outputs": [],
   "source": [
    "# Add week number (month)\n",
    "combined_df['week'] = combined_df['date'].dt.strftime('%W')\n",
    "combined_df['week'] = combined_df['week'].astype(np.int8)"
   ]
  },
  {
   "cell_type": "code",
   "execution_count": 6,
   "metadata": {},
   "outputs": [
    {
     "data": {
      "text/html": [
       "<div>\n",
       "<style scoped>\n",
       "    .dataframe tbody tr th:only-of-type {\n",
       "        vertical-align: middle;\n",
       "    }\n",
       "\n",
       "    .dataframe tbody tr th {\n",
       "        vertical-align: top;\n",
       "    }\n",
       "\n",
       "    .dataframe thead th {\n",
       "        text-align: right;\n",
       "    }\n",
       "</style>\n",
       "<table border=\"1\" class=\"dataframe\">\n",
       "  <thead>\n",
       "    <tr style=\"text-align: right;\">\n",
       "      <th></th>\n",
       "      <th>month</th>\n",
       "      <th>amount</th>\n",
       "      <th>type</th>\n",
       "      <th>count</th>\n",
       "    </tr>\n",
       "  </thead>\n",
       "  <tbody>\n",
       "    <tr>\n",
       "      <th>0</th>\n",
       "      <td>January</td>\n",
       "      <td>-200.23</td>\n",
       "      <td>expense</td>\n",
       "      <td>1</td>\n",
       "    </tr>\n",
       "    <tr>\n",
       "      <th>1</th>\n",
       "      <td>January</td>\n",
       "      <td>100.00</td>\n",
       "      <td>income</td>\n",
       "      <td>1</td>\n",
       "    </tr>\n",
       "  </tbody>\n",
       "</table>\n",
       "</div>"
      ],
      "text/plain": [
       "     month  amount     type  count\n",
       "0  January -200.23  expense      1\n",
       "1  January  100.00   income      1"
      ]
     },
     "execution_count": 6,
     "metadata": {},
     "output_type": "execute_result"
    }
   ],
   "source": [
    "combined_df.groupby('month', as_index=False)[['amount', 'type']].value_counts()"
   ]
  },
  {
   "cell_type": "code",
   "execution_count": 21,
   "metadata": {},
   "outputs": [
    {
     "data": {
      "text/plain": [
       "'[{\"amount\":100.0,\"description\":\"Production home painting blue pressure computer lot also.\",\"account_id\":1,\"subcategory_id\":10,\"date\":\"2024-01-01T00:00:00\",\"owner_id\":1,\"category_id\":null,\"place_id\":3,\"type\":\"income\",\"month\":\"January\"},{\"amount\":-200.23,\"description\":\"Say type lot blue night attorney.\",\"account_id\":2,\"subcategory_id\":7,\"date\":\"2024-01-13T00:00:00\",\"owner_id\":1,\"category_id\":2.0,\"place_id\":5,\"type\":\"expense\",\"month\":\"January\"}]'"
      ]
     },
     "execution_count": 21,
     "metadata": {},
     "output_type": "execute_result"
    }
   ],
   "source": [
    "# return as json but without owner_id\n",
    "combined_df.to_json(orient='records', date_format='iso', date_unit='s')"
   ]
  },
  {
   "cell_type": "code",
   "execution_count": 7,
   "metadata": {},
   "outputs": [
    {
     "data": {
      "text/html": [
       "<div>\n",
       "<style scoped>\n",
       "    .dataframe tbody tr th:only-of-type {\n",
       "        vertical-align: middle;\n",
       "    }\n",
       "\n",
       "    .dataframe tbody tr th {\n",
       "        vertical-align: top;\n",
       "    }\n",
       "\n",
       "    .dataframe thead th {\n",
       "        text-align: right;\n",
       "    }\n",
       "</style>\n",
       "<table border=\"1\" class=\"dataframe\">\n",
       "  <thead>\n",
       "    <tr style=\"text-align: right;\">\n",
       "      <th></th>\n",
       "      <th>month</th>\n",
       "      <th>amount</th>\n",
       "    </tr>\n",
       "  </thead>\n",
       "  <tbody>\n",
       "    <tr>\n",
       "      <th>0</th>\n",
       "      <td>January</td>\n",
       "      <td>-100.23</td>\n",
       "    </tr>\n",
       "    <tr>\n",
       "      <th>1</th>\n",
       "      <td>February</td>\n",
       "      <td>0.00</td>\n",
       "    </tr>\n",
       "    <tr>\n",
       "      <th>2</th>\n",
       "      <td>March</td>\n",
       "      <td>0.00</td>\n",
       "    </tr>\n",
       "    <tr>\n",
       "      <th>3</th>\n",
       "      <td>April</td>\n",
       "      <td>0.00</td>\n",
       "    </tr>\n",
       "    <tr>\n",
       "      <th>4</th>\n",
       "      <td>May</td>\n",
       "      <td>0.00</td>\n",
       "    </tr>\n",
       "    <tr>\n",
       "      <th>5</th>\n",
       "      <td>June</td>\n",
       "      <td>0.00</td>\n",
       "    </tr>\n",
       "    <tr>\n",
       "      <th>6</th>\n",
       "      <td>July</td>\n",
       "      <td>0.00</td>\n",
       "    </tr>\n",
       "    <tr>\n",
       "      <th>7</th>\n",
       "      <td>August</td>\n",
       "      <td>0.00</td>\n",
       "    </tr>\n",
       "    <tr>\n",
       "      <th>8</th>\n",
       "      <td>September</td>\n",
       "      <td>0.00</td>\n",
       "    </tr>\n",
       "    <tr>\n",
       "      <th>9</th>\n",
       "      <td>October</td>\n",
       "      <td>0.00</td>\n",
       "    </tr>\n",
       "    <tr>\n",
       "      <th>10</th>\n",
       "      <td>November</td>\n",
       "      <td>0.00</td>\n",
       "    </tr>\n",
       "    <tr>\n",
       "      <th>11</th>\n",
       "      <td>December</td>\n",
       "      <td>0.00</td>\n",
       "    </tr>\n",
       "  </tbody>\n",
       "</table>\n",
       "</div>"
      ],
      "text/plain": [
       "        month  amount\n",
       "0     January -100.23\n",
       "1    February    0.00\n",
       "2       March    0.00\n",
       "3       April    0.00\n",
       "4         May    0.00\n",
       "5        June    0.00\n",
       "6        July    0.00\n",
       "7      August    0.00\n",
       "8   September    0.00\n",
       "9     October    0.00\n",
       "10   November    0.00\n",
       "11   December    0.00"
      ]
     },
     "execution_count": 7,
     "metadata": {},
     "output_type": "execute_result"
    }
   ],
   "source": [
    "# This is the total\n",
    "total = all_months.merge(combined_df.groupby('month', as_index=False)['amount'].sum(), on='month', how='left').fillna(0)\n",
    "total"
   ]
  },
  {
   "cell_type": "code",
   "execution_count": 10,
   "metadata": {},
   "outputs": [
    {
     "data": {
      "text/html": [
       "<div>\n",
       "<style scoped>\n",
       "    .dataframe tbody tr th:only-of-type {\n",
       "        vertical-align: middle;\n",
       "    }\n",
       "\n",
       "    .dataframe tbody tr th {\n",
       "        vertical-align: top;\n",
       "    }\n",
       "\n",
       "    .dataframe thead th {\n",
       "        text-align: right;\n",
       "    }\n",
       "</style>\n",
       "<table border=\"1\" class=\"dataframe\">\n",
       "  <thead>\n",
       "    <tr style=\"text-align: right;\">\n",
       "      <th></th>\n",
       "      <th>month</th>\n",
       "      <th>amount</th>\n",
       "    </tr>\n",
       "  </thead>\n",
       "  <tbody>\n",
       "    <tr>\n",
       "      <th>0</th>\n",
       "      <td>January</td>\n",
       "      <td>200.23</td>\n",
       "    </tr>\n",
       "    <tr>\n",
       "      <th>1</th>\n",
       "      <td>February</td>\n",
       "      <td>0.00</td>\n",
       "    </tr>\n",
       "    <tr>\n",
       "      <th>2</th>\n",
       "      <td>March</td>\n",
       "      <td>0.00</td>\n",
       "    </tr>\n",
       "    <tr>\n",
       "      <th>3</th>\n",
       "      <td>April</td>\n",
       "      <td>0.00</td>\n",
       "    </tr>\n",
       "    <tr>\n",
       "      <th>4</th>\n",
       "      <td>May</td>\n",
       "      <td>0.00</td>\n",
       "    </tr>\n",
       "    <tr>\n",
       "      <th>5</th>\n",
       "      <td>June</td>\n",
       "      <td>0.00</td>\n",
       "    </tr>\n",
       "    <tr>\n",
       "      <th>6</th>\n",
       "      <td>July</td>\n",
       "      <td>0.00</td>\n",
       "    </tr>\n",
       "    <tr>\n",
       "      <th>7</th>\n",
       "      <td>August</td>\n",
       "      <td>0.00</td>\n",
       "    </tr>\n",
       "    <tr>\n",
       "      <th>8</th>\n",
       "      <td>September</td>\n",
       "      <td>0.00</td>\n",
       "    </tr>\n",
       "    <tr>\n",
       "      <th>9</th>\n",
       "      <td>October</td>\n",
       "      <td>0.00</td>\n",
       "    </tr>\n",
       "    <tr>\n",
       "      <th>10</th>\n",
       "      <td>November</td>\n",
       "      <td>0.00</td>\n",
       "    </tr>\n",
       "    <tr>\n",
       "      <th>11</th>\n",
       "      <td>December</td>\n",
       "      <td>0.00</td>\n",
       "    </tr>\n",
       "  </tbody>\n",
       "</table>\n",
       "</div>"
      ],
      "text/plain": [
       "        month  amount\n",
       "0     January  200.23\n",
       "1    February    0.00\n",
       "2       March    0.00\n",
       "3       April    0.00\n",
       "4         May    0.00\n",
       "5        June    0.00\n",
       "6        July    0.00\n",
       "7      August    0.00\n",
       "8   September    0.00\n",
       "9     October    0.00\n",
       "10   November    0.00\n",
       "11   December    0.00"
      ]
     },
     "execution_count": 10,
     "metadata": {},
     "output_type": "execute_result"
    }
   ],
   "source": [
    "# Expenses\n",
    "expenses = all_months.merge(combined_df[combined_df['type'] == 'expense'].groupby('month', as_index=False)['amount'].sum(), on='month', how='left').fillna(0)\n",
    "expenses['amount'] = expenses['amount'].abs()\n",
    "\n",
    "expenses"
   ]
  },
  {
   "cell_type": "code",
   "execution_count": 8,
   "metadata": {},
   "outputs": [
    {
     "data": {
      "text/html": [
       "<div>\n",
       "<style scoped>\n",
       "    .dataframe tbody tr th:only-of-type {\n",
       "        vertical-align: middle;\n",
       "    }\n",
       "\n",
       "    .dataframe tbody tr th {\n",
       "        vertical-align: top;\n",
       "    }\n",
       "\n",
       "    .dataframe thead th {\n",
       "        text-align: right;\n",
       "    }\n",
       "</style>\n",
       "<table border=\"1\" class=\"dataframe\">\n",
       "  <thead>\n",
       "    <tr style=\"text-align: right;\">\n",
       "      <th></th>\n",
       "      <th>month</th>\n",
       "      <th>amount</th>\n",
       "    </tr>\n",
       "  </thead>\n",
       "  <tbody>\n",
       "    <tr>\n",
       "      <th>0</th>\n",
       "      <td>January</td>\n",
       "      <td>100.0</td>\n",
       "    </tr>\n",
       "    <tr>\n",
       "      <th>1</th>\n",
       "      <td>February</td>\n",
       "      <td>0.0</td>\n",
       "    </tr>\n",
       "    <tr>\n",
       "      <th>2</th>\n",
       "      <td>March</td>\n",
       "      <td>0.0</td>\n",
       "    </tr>\n",
       "    <tr>\n",
       "      <th>3</th>\n",
       "      <td>April</td>\n",
       "      <td>0.0</td>\n",
       "    </tr>\n",
       "    <tr>\n",
       "      <th>4</th>\n",
       "      <td>May</td>\n",
       "      <td>0.0</td>\n",
       "    </tr>\n",
       "    <tr>\n",
       "      <th>5</th>\n",
       "      <td>June</td>\n",
       "      <td>0.0</td>\n",
       "    </tr>\n",
       "    <tr>\n",
       "      <th>6</th>\n",
       "      <td>July</td>\n",
       "      <td>0.0</td>\n",
       "    </tr>\n",
       "    <tr>\n",
       "      <th>7</th>\n",
       "      <td>August</td>\n",
       "      <td>0.0</td>\n",
       "    </tr>\n",
       "    <tr>\n",
       "      <th>8</th>\n",
       "      <td>September</td>\n",
       "      <td>0.0</td>\n",
       "    </tr>\n",
       "    <tr>\n",
       "      <th>9</th>\n",
       "      <td>October</td>\n",
       "      <td>0.0</td>\n",
       "    </tr>\n",
       "    <tr>\n",
       "      <th>10</th>\n",
       "      <td>November</td>\n",
       "      <td>0.0</td>\n",
       "    </tr>\n",
       "    <tr>\n",
       "      <th>11</th>\n",
       "      <td>December</td>\n",
       "      <td>0.0</td>\n",
       "    </tr>\n",
       "  </tbody>\n",
       "</table>\n",
       "</div>"
      ],
      "text/plain": [
       "        month  amount\n",
       "0     January   100.0\n",
       "1    February     0.0\n",
       "2       March     0.0\n",
       "3       April     0.0\n",
       "4         May     0.0\n",
       "5        June     0.0\n",
       "6        July     0.0\n",
       "7      August     0.0\n",
       "8   September     0.0\n",
       "9     October     0.0\n",
       "10   November     0.0\n",
       "11   December     0.0"
      ]
     },
     "execution_count": 8,
     "metadata": {},
     "output_type": "execute_result"
    }
   ],
   "source": [
    "# This is the incomes\n",
    "incomes = all_months.merge(combined_df[combined_df['type'] == 'income'].groupby('month', as_index=False)['amount'].sum(), on='month', how='left').fillna(0)\n",
    "\n",
    "incomes"
   ]
  },
  {
   "cell_type": "code",
   "execution_count": 11,
   "metadata": {},
   "outputs": [
    {
     "data": {
      "text/plain": [
       "{'series': [{'name': 'Total',\n",
       "   'data': [-100.22999999999999,\n",
       "    0.0,\n",
       "    0.0,\n",
       "    0.0,\n",
       "    0.0,\n",
       "    0.0,\n",
       "    0.0,\n",
       "    0.0,\n",
       "    0.0,\n",
       "    0.0,\n",
       "    0.0,\n",
       "    0.0]},\n",
       "  {'name': 'Expenses',\n",
       "   'data': [200.23, 0.0, 0.0, 0.0, 0.0, 0.0, 0.0, 0.0, 0.0, 0.0, 0.0, 0.0]},\n",
       "  {'name': 'Incomes',\n",
       "   'data': [100.0, 0.0, 0.0, 0.0, 0.0, 0.0, 0.0, 0.0, 0.0, 0.0, 0.0, 0.0]}],\n",
       " 'xAxis': ['January',\n",
       "  'February',\n",
       "  'March',\n",
       "  'April',\n",
       "  'May',\n",
       "  'June',\n",
       "  'July',\n",
       "  'August',\n",
       "  'September',\n",
       "  'October',\n",
       "  'November',\n",
       "  'December']}"
      ]
     },
     "execution_count": 11,
     "metadata": {},
     "output_type": "execute_result"
    }
   ],
   "source": [
    "transfers_chart = {\n",
    "    \"series\": [\n",
    "    {\n",
    "        \"name\": \"Total\",\n",
    "        \"data\": total['amount'].tolist()\n",
    "    },\n",
    "    {\n",
    "        \"name\": \"Expenses\",\n",
    "        \"data\": expenses['amount'].tolist()\n",
    "    },\n",
    "    {\n",
    "        \"name\": \"Incomes\",\n",
    "        \"data\": incomes['amount'].tolist()\n",
    "    }],\n",
    "    \"xAxis\": total['month'].tolist()\n",
    "}\n",
    "\n",
    "transfers_chart"
   ]
  },
  {
   "cell_type": "markdown",
   "metadata": {},
   "source": [
    "---\n",
    "## Quarter"
   ]
  },
  {
   "cell_type": "code",
   "execution_count": null,
   "metadata": {},
   "outputs": [],
   "source": [
    "all_months['quarter'] = all_months['month'].map({\n",
    "    'January': 1, 'February': 1, 'March': 1,\n",
    "    'April': 2, 'May': 2, 'June': 2,\n",
    "    'July': 3, 'August': 3, 'September': 3,\n",
    "    'October': 4, 'November': 4, 'December': 4\n",
    "})"
   ]
  },
  {
   "cell_type": "code",
   "execution_count": null,
   "metadata": {},
   "outputs": [],
   "source": [
    "all_months"
   ]
  },
  {
   "cell_type": "code",
   "execution_count": null,
   "metadata": {},
   "outputs": [],
   "source": [
    "# This is the total\n",
    "total_quarter = all_months.merge(combined_df.groupby('month', as_index=False)['amount'].sum(), on='month', how='left')\n",
    "# Incomes\n",
    "incomes = all_months.merge(combined_df[combined_df['type'] == 'income'].groupby('month', as_index=False)['amount'].sum(), on='month', how='left')\n",
    "\n",
    "# Expenses\n",
    "expenses = all_months.merge(combined_df[combined_df['type'] == 'expense'].groupby('month', as_index=False)['amount'].sum(), on='month', how='left')\n",
    "expenses['amount'].abs()"
   ]
  },
  {
   "cell_type": "code",
   "execution_count": null,
   "metadata": {},
   "outputs": [],
   "source": [
    "total_quarter"
   ]
  },
  {
   "cell_type": "code",
   "execution_count": null,
   "metadata": {},
   "outputs": [],
   "source": [
    "total_quarter = total_quarter[total_quarter['quarter'] == total_quarter.iloc[0]['quarter']].fillna(0)"
   ]
  },
  {
   "cell_type": "code",
   "execution_count": null,
   "metadata": {},
   "outputs": [],
   "source": [
    "total_quarter"
   ]
  },
  {
   "cell_type": "code",
   "execution_count": null,
   "metadata": {},
   "outputs": [],
   "source": [
    "total_quarter[pd.notna(total_quarter['amount'])].iloc[0]['quarter']"
   ]
  },
  {
   "cell_type": "code",
   "execution_count": null,
   "metadata": {},
   "outputs": [],
   "source": [
    "combined_df.groupby('month', as_index=False)['amount'].sum()"
   ]
  },
  {
   "cell_type": "code",
   "execution_count": null,
   "metadata": {},
   "outputs": [],
   "source": [
    "test = all_months.merge(combined_df.groupby('month', as_index=False)['amount'].sum(), on='month', how='left')"
   ]
  },
  {
   "cell_type": "code",
   "execution_count": null,
   "metadata": {},
   "outputs": [],
   "source": [
    "test.loc[test['quarter'] == combined_df.iloc[0]['quarter']]"
   ]
  },
  {
   "cell_type": "code",
   "execution_count": null,
   "metadata": {},
   "outputs": [],
   "source": [
    "test.loc[test['quarter'] == combined_df.iloc[0]['quarter']] = test.loc[test['quarter'] == combined_df.iloc[0]['quarter']].fillna(0)"
   ]
  },
  {
   "cell_type": "code",
   "execution_count": null,
   "metadata": {},
   "outputs": [],
   "source": [
    "test"
   ]
  },
  {
   "cell_type": "code",
   "execution_count": null,
   "metadata": {},
   "outputs": [],
   "source": [
    "filter_quarter = total_quarter[~pd.isna(total_quarter['amount'])]\n",
    "\n",
    "transfers_chart_quarter = {\n",
    "    \"series\": [\n",
    "    {\n",
    "        \"name\": \"Total\",\n",
    "        \"data\": filter_quarter['amount'].tolist()\n",
    "    }\n",
    "    # same with incomes and expenses\n",
    "    ],\n",
    "    # add the months that are in the quarter\n",
    "    \"xAxis\": filter_quarter['month'].tolist()\n",
    "}\n",
    "\n",
    "transfers_chart_quarter"
   ]
  },
  {
   "cell_type": "markdown",
   "metadata": {},
   "source": [
    "---\n",
    "## Month"
   ]
  },
  {
   "cell_type": "code",
   "execution_count": null,
   "metadata": {},
   "outputs": [],
   "source": [
    "start_date = datetime.date(2024, 1, 1)\n",
    "\n",
    "start_date - datetime.timedelta(days=start_date.weekday()) + datetime.timedelta(weeks=week)\n"
   ]
  },
  {
   "cell_type": "code",
   "execution_count": null,
   "metadata": {},
   "outputs": [],
   "source": [
    "def get_week_range(year, week):\n",
    "    start_date = datetime.date(year, 1, 1)\n",
    "    print(\"🚀 ~ file: transactions_chart.ipynb:3 ~ start_date:\", start_date)\n",
    "    first_day = start_date - datetime.timedelta(days=start_date.weekday()) + datetime.timedelta(weeks=week)\n",
    "    print(\"🚀 ~ file: transactions_chart.ipynb:5 ~ first_day:\", first_day)\n",
    "    last_day = first_day + datetime.timedelta(days=6)\n",
    "    print(\"🚀 ~ file: transactions_chart.ipynb:7 ~ last_day:\", last_day)\n",
    "\n",
    "    return {\n",
    "        \"week\": week,\n",
    "        \"range\": f\"{first_day.day}-{last_day.day}\"\n",
    "    }\n",
    "\n",
    "def get_month_weeks(year, month):\n",
    "    first_day = datetime.date(year, month, 1)\n",
    "    last_day = first_day + datetime.timedelta(days=32) - datetime.timedelta(days=1)\n",
    "\n",
    "    return [int(first_day.strftime(\"%W\")), int(last_day.strftime(\"%W\"))]"
   ]
  },
  {
   "cell_type": "code",
   "execution_count": null,
   "metadata": {},
   "outputs": [],
   "source": [
    "month_ranges = {\n",
    "    'week': [],\n",
    "    'range': []\n",
    "}\n",
    "\n",
    "print(\"🚀 ~ file: transactions_chart.ipynb:7 ~ ombined_df.iloc[0]['date'].month:\", combined_df.iloc[0]['date'].month)\n",
    "week_start, week_end = get_month_weeks(2022, 9)\n",
    "print(\"🚀 ~ file: transactions_chart.ipynb:7 ~ week_end:\", week_end)\n",
    "print(\"🚀 ~ file: transactions_chart.ipynb:7 ~ week_start:\", week_start)\n",
    "\n",
    "for i in range(week_start, week_end + 1):\n",
    "    print(i, \"i\")\n",
    "    data = get_week_range(2022, i)\n",
    "    month_ranges['week'].append(data['week'])\n",
    "    month_ranges['range'].append(data['range'])\n",
    "\n",
    "month_df = pd.DataFrame(month_ranges)"
   ]
  },
  {
   "cell_type": "code",
   "execution_count": null,
   "metadata": {},
   "outputs": [],
   "source": [
    "month_df"
   ]
  },
  {
   "cell_type": "code",
   "execution_count": null,
   "metadata": {},
   "outputs": [],
   "source": [
    "total_month = month_df.merge(combined_df.groupby('week', as_index=False)['amount'].sum(), on='week', how='left').fillna(0)\n",
    "\n",
    "# Incomes\n",
    "month_df.merge(combined_df[combined_df['type'] == 'income'].groupby('week', as_index=False)['amount'].sum(), on='week', how='left').fillna(0)\n",
    "\n",
    "# Expenses\n",
    "month_df.merge(combined_df[combined_df['type'] == 'expense'].groupby('week', as_index=False)['amount'].sum(), on='week', how='left').fillna(0)\n",
    "expenses['amount'].abs()"
   ]
  },
  {
   "cell_type": "code",
   "execution_count": null,
   "metadata": {},
   "outputs": [],
   "source": [
    "total_month"
   ]
  },
  {
   "cell_type": "code",
   "execution_count": null,
   "metadata": {},
   "outputs": [],
   "source": [
    "transfers_chart_month = {\n",
    "    \"series\": [\n",
    "    {\n",
    "        \"name\": \"Total\",\n",
    "        \"data\": total_month['amount'].tolist()\n",
    "    }\n",
    "    # same with incomes and expenses\n",
    "    ],\n",
    "    \"xAxis\": total_month['range'].tolist()\n",
    "}\n",
    "\n",
    "transfers_chart_month"
   ]
  },
  {
   "cell_type": "markdown",
   "metadata": {},
   "source": [
    "---\n",
    "## Week"
   ]
  },
  {
   "cell_type": "code",
   "execution_count": null,
   "metadata": {},
   "outputs": [],
   "source": [
    "all_days = pd.DataFrame({'day_of_week': ['Monday', 'Tuesday', 'Wednesday', 'Thursday', 'Friday', 'Saturday', 'Sunday']})\n",
    "\n",
    "all_days"
   ]
  },
  {
   "cell_type": "code",
   "execution_count": null,
   "metadata": {},
   "outputs": [],
   "source": [
    "# This is the total\n",
    "total_week = all_days.merge(combined_df.groupby('day_of_week', as_index=False)['amount'].sum(), on='day_of_week', how='left').fillna(0)\n",
    "\n",
    "# Incomes\n",
    "all_days.merge(combined_df[combined_df['type'] == 'income'].groupby('day_of_week', as_index=False)['amount'].sum(), on='day_of_week', how='left').fillna(0)\n",
    "\n",
    "# Expenses\n",
    "all_days.merge(combined_df[combined_df['type'] == 'expense'].groupby('day_of_week', as_index=False)['amount'].sum(), on='day_of_week', how='left').fillna(0)\n",
    "expenses['amount'].abs()"
   ]
  },
  {
   "cell_type": "code",
   "execution_count": null,
   "metadata": {},
   "outputs": [],
   "source": [
    "transfers_chart_week = {\n",
    "    \"series\": [\n",
    "    {\n",
    "        \"name\": \"Total\",\n",
    "        \"data\": total_week['amount'].tolist()\n",
    "    }\n",
    "    # same with incomes and expenses\n",
    "    ],\n",
    "    \"xAxis\": all_days['day_of_week'].tolist()\n",
    "}\n",
    "\n",
    "transfers_chart_week"
   ]
  },
  {
   "cell_type": "markdown",
   "metadata": {},
   "source": [
    "---\n",
    "## Date or Range"
   ]
  },
  {
   "cell_type": "code",
   "execution_count": null,
   "metadata": {},
   "outputs": [],
   "source": [
    "date_total = combined_df.groupby('date', as_index=False)['amount'].sum()\n",
    "date_incomes = combined_df[combined_df['type'] == 'income'].groupby('date', as_index=False)['amount'].sum()\n",
    "date_expenses = combined_df[combined_df['type'] == 'expense'].groupby('date', as_index=False)['amount'].sum()\n",
    "\n",
    "date_expenses['amount'] = date_expenses['amount'].abs()\n",
    "\n",
    "# convert datetime to string YYYY-MM-DD\n",
    "date_total['date'] = date_total['date'].dt.strftime('%Y-%m-%d')\n",
    "date_incomes['date'] = date_incomes['date'].dt.strftime('%Y-%m-%d')\n",
    "date_expenses['date'] = date_expenses['date'].dt.strftime('%Y-%m-%d')"
   ]
  },
  {
   "cell_type": "code",
   "execution_count": null,
   "metadata": {},
   "outputs": [],
   "source": [
    "transfers_chart_date = {\n",
    "    \"series\": [\n",
    "    {\n",
    "        \"name\": \"Total\",\n",
    "        \"data\": date_total['amount'].tolist()\n",
    "    }\n",
    "    # same with incomes and expenses\n",
    "    ],\n",
    "    \"xAxis\": date_total['date'].tolist()\n",
    "}\n",
    "\n",
    "transfers_chart_date"
   ]
  }
 ],
 "metadata": {
  "kernelspec": {
   "display_name": "Python 3.11.0 64-bit ('3.11.0')",
   "language": "python",
   "name": "python3"
  },
  "language_info": {
   "codemirror_mode": {
    "name": "ipython",
    "version": 3
   },
   "file_extension": ".py",
   "mimetype": "text/x-python",
   "name": "python",
   "nbconvert_exporter": "python",
   "pygments_lexer": "ipython3",
   "version": "3.11.0"
  },
  "orig_nbformat": 4,
  "vscode": {
   "interpreter": {
    "hash": "5d25e05b11afe9c4df7983e9f0f433fe307da6fe34049fd8f4b4fa8dc3026d45"
   }
  }
 },
 "nbformat": 4,
 "nbformat_minor": 2
}
